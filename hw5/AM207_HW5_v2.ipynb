{
  "nbformat": 4,
  "nbformat_minor": 0,
  "metadata": {
    "colab": {
      "name": "AM207_HW5_v2.ipynb",
      "version": "0.3.2",
      "provenance": [],
      "collapsed_sections": []
    },
    "kernelspec": {
      "display_name": "Python 3",
      "language": "python",
      "name": "python3"
    }
  },
  "cells": [
    {
      "metadata": {
        "id": "dHbWy4gi-ya4",
        "colab_type": "text"
      },
      "cell_type": "markdown",
      "source": [
        "# APMTH 207: Advanced Scientific Computing: \n",
        "## Stochastic Methods for Data Analysis, Inference and Optimization\n",
        "## Homework #5\n",
        "**Harvard University**<br>\n",
        "**Fall 2018**<br>\n",
        "**Instructors: Rahul Dave**<br>\n",
        "**Due Date: ** Saturday, October 13th, 2018 at 11:59pm\n",
        "\n",
        "**Instructions:**\n",
        "\n",
        "- Upload your final answers in the form of a Jupyter notebook containing all work to Canvas.\n",
        "\n",
        "- Structure your notebook and your work to maximize readability."
      ]
    },
    {
      "metadata": {
        "id": "HnghrXkE-ya-",
        "colab_type": "text"
      },
      "cell_type": "markdown",
      "source": [
        "### Collaborators\n",
        "\n",
        "** Submission of Christian Kaas, Thomas Kulalert, Alexander Noll, and Karma Tarap. **"
      ]
    },
    {
      "metadata": {
        "id": "r_0ulIEl-ybD",
        "colab_type": "text"
      },
      "cell_type": "markdown",
      "source": [
        "<div class=\"answer-separator\">\n",
        "------------------------\n",
        "</div>"
      ]
    },
    {
      "metadata": {
        "id": "LUAQ7RZc-ybH",
        "colab_type": "code",
        "colab": {}
      },
      "cell_type": "code",
      "source": [
        "import numpy as np\n",
        "import scipy.stats\n",
        "import scipy.special\n",
        "\n",
        "import matplotlib\n",
        "import matplotlib.pyplot as plt\n",
        "import matplotlib.mlab as mlab\n",
        "from matplotlib import cm\n",
        "import pandas as pd\n",
        "import seaborn as sns\n",
        "%matplotlib inline"
      ],
      "execution_count": 0,
      "outputs": []
    },
    {
      "metadata": {
        "id": "nwhkrRHX-ybP",
        "colab_type": "text"
      },
      "cell_type": "markdown",
      "source": [
        "## Question 1: We'll Always Have that Night Sampling in Monte Carlo"
      ]
    },
    {
      "metadata": {
        "id": "OozGDf5d-ybQ",
        "colab_type": "text"
      },
      "cell_type": "markdown",
      "source": [
        "**Coding required**\n",
        "\n",
        "\n",
        "Let $X$ be a random variable with distribution described by the following pdf:\n",
        "\n",
        "$$\n",
        "f_X(x) = \\begin{cases}\n",
        "\\frac{1}{12}(x-1), &1\\leq x\\leq 3\\\\\n",
        "-\\frac{1}{12}(x-5), &3< x\\leq 5\\\\\n",
        "\\frac{1}{6}(x-5), &5< x\\leq 7\\\\\n",
        "-\\frac{1}{6}(x-9), &7< x\\leq 9\\\\\n",
        "0, &otherwise\n",
        "\\end{cases}\n",
        "$$\n",
        "\n",
        "Let $h$ be the following function of $X$:\n",
        "\n",
        "$$h(X) = \\frac{1}{3\\sqrt{2}\\pi}\\mathrm{exp}\\left\\{ -\\frac{1}{18}\\left( X - 5\\right)^2\\right\\}$$\n",
        "\n",
        "\n",
        "Compute $\\mathbb{E}[h(X)]$ via Monte Carlo simulation using the following sampling methods:\n",
        "\n",
        "**1.1.** Inverse Transform Sampling\n",
        "\n",
        "**1.2.** Rejection Sampling with a uniform proposal distribution (rejection sampling in a rectangular box with uniform probability of sampling any x)\n"
      ]
    },
    {
      "metadata": {
        "id": "YgfjXq65ftcH",
        "colab_type": "text"
      },
      "cell_type": "markdown",
      "source": [
        "> #### 1.1 Inverse Transform Sampling\n",
        "\n",
        "In order to get to inverse transform sampling, we need to do the following:\n",
        "\n",
        "i) Integrate the PDF, to arrive at the CDF<br>\n",
        "ii) Inverse the CDF<br>\n",
        "iii) Sample from Uniform [0,1] <br>\n",
        "iv) Plug the sample values back into the inverted CDF to get samples from the distribution <br>\n",
        "v) Calculate $E(h(X))$ based on these sample $X$'s"
      ]
    },
    {
      "metadata": {
        "id": "XEp6kLtRcbdU",
        "colab_type": "code",
        "colab": {
          "base_uri": "https://localhost:8080/",
          "height": 280
        },
        "outputId": "a5b6f509-9769-4e34-86cc-7148def4303f"
      },
      "cell_type": "code",
      "source": [
        "# first, let's visualize the piecewise pdf:\n",
        "\n",
        "def fn(x):\n",
        "  if   1 <= x <= 3:\n",
        "    return (1./12.)*(x-1.)\n",
        "  elif 3 < x <= 5:\n",
        "    return -(1./12.)*(x-5.)\n",
        "  elif 5 < x <= 7:\n",
        "    return (1./6.)*(x-5.)\n",
        "  elif 7 < x <= 9:\n",
        "    return -(1./6.)*(x-9.)\n",
        "  else:\n",
        "    return (0.)\n",
        "  \n",
        "# visualize\n",
        "xpts = np.linspace(0.75,9.25,1000)\n",
        "ypts = [fn(x) for x in xpts]\n",
        "_ = plt.plot(xpts, ypts, color='salmon')\n",
        "_ = plt.title(\"PDF of given piecewise function\")\n"
      ],
      "execution_count": 24,
      "outputs": [
        {
          "output_type": "display_data",
          "data": {
            "image/png": "[encoded data removed]",
            "text/plain": [
              "<matplotlib.figure.Figure at 0x7f0a072af470>"
            ]
          },
          "metadata": {
            "tags": []
          }
        }
      ]
    },
    {
      "metadata": {
        "id": "1UQLF9pFghbl",
        "colab_type": "text"
      },
      "cell_type": "markdown",
      "source": [
        "i) to get to the CDF, we piecewise integrate the PDF as follow:\n",
        "\n",
        "For $1 \\leq x \\leq 3$, the CDF is: <br>\n",
        "$$\n",
        "\\begin{align}\n",
        "    \\int \\frac{1}{12}(x-1)dx &= \\frac{1}{12}(\\frac{x^2}{2}-x)+C_1 \\\\\n",
        "\\end{align}\n",
        "$$\n",
        "<br>\n",
        "Given that this is a CDF, it has to evaluate to $0$ at $x=1$ (density is zero on the left side of this point)\n",
        "<br>\n",
        "Thus, \n",
        "$$\n",
        "\\begin{align}\n",
        "    0 &= \\frac{1}{12}(\\frac{1^2}{2}-1)+C_1 \\\\\n",
        "    &= \\frac{1}{12}(-\\frac{1}{2}) + C_1 \\\\\n",
        "    C_1 &= \\frac{1}{24}\n",
        "\\end{align}\n",
        "$$\n",
        "<br><br>\n",
        "For $3 \\lt x \\leq 5$, the CDF is: <br>\n",
        "$$\n",
        "\\begin{align}\n",
        "    \\int -\\frac{1}{12}(x-5)dx &= -\\frac{1}{12}(\\frac{x^2}{2}-5x)+C_2 \\\\\n",
        "\\end{align}\n",
        "$$\n",
        "<br>\n",
        "Given that this is a CDF, at $x=3$ it has to evaluate to $\\int_1^3f(x)dx$, which, from the CDF above, is equal to $\\frac{1}{12}((\\frac{9}{2}-3)-(\\frac{1}{2}-1)) = \\frac{1}{6}$.\n",
        "<br>\n",
        "$$\n",
        "\\begin{align}\n",
        "    \\frac{1}{6} &= -\\frac{1}{12}(\\frac{3^2}{2}-5\\cdot 3)+C_2 \\\\\n",
        "    C_2&= -\\frac{17}{24}\n",
        "\\end{align}\n",
        "$$\n",
        "<br>\n",
        "\n",
        "Repeating the same logic for the other two pieces of this function, we eventually get the full functional form of the CDF as follow:\n",
        "<br>\n",
        "$$\n",
        "F(x) = \\begin{cases}\n",
        "0, & x < 1 \\\\\n",
        "\\frac{1}{12}(x^2/2-x) + \\frac{1}{24}, &1\\leq x\\leq 3\\\\\n",
        "-\\frac{1}{12}(x^2/2-5x) - \\frac{17}{24}, &3< x\\leq 5\\\\\n",
        "\\frac{1}{6}(x^2/2-5x) + \\frac{29}{12}, &5< x\\leq 7\\\\\n",
        "-\\frac{1}{6}(x^2/2 - 9x) - \\frac{69}{12} , &7< x\\leq 9\\\\\n",
        "1, &9 < x\n",
        "\\end{cases}\n",
        "$$\n",
        "\n"
      ]
    },
    {
      "metadata": {
        "id": "QxfEJGpNmaKZ",
        "colab_type": "text"
      },
      "cell_type": "markdown",
      "source": [
        "ii) We can now invert the CDF, resulting in $F_X^{-1}(u)$ as follow:\n",
        "<br><br>\n",
        "$$\n",
        "F_X^{-1}(u) = \\begin{cases}\n",
        "1 + 2\\sqrt{6u}, &0\\leq u\\leq \\frac{1}{6}\\\\\n",
        "5 - 2\\sqrt{2(1 - 3u)}, &\\frac{1}{6}< u\\leq \\frac{1}{3}\\\\\n",
        "5 + 2\\sqrt{3u - 1}, &\\frac{1}{3}< u\\leq \\frac{2}{3}\\\\\n",
        "9 - 2\\sqrt{3(1 - u)}, &\\frac{2}{3}< u\\leq 1\\\\\n",
        "\\end{cases}\n",
        "$$\n",
        "<br>\n",
        "(with help from https://www.symbolab.com/solver/function-inverse-calculator)"
      ]
    },
    {
      "metadata": {
        "id": "2w3Hu5KhqXA8",
        "colab_type": "code",
        "colab": {
          "base_uri": "https://localhost:8080/",
          "height": 34
        },
        "outputId": "8af71132-4c04-4946-e7c6-ffe3365f61d4"
      },
      "cell_type": "code",
      "source": [
        "# iii) sampling from inverted CDF\n",
        "\n",
        "# define inverse of F(x)\n",
        "def fn_inv(y):\n",
        "  if     0. <= y <= 1./6.:\n",
        "    return (1. + 2. * np.sqrt(6. * y))\n",
        "  elif 1./6. < y <= 1./3.:\n",
        "    return (5. - 2. * np.sqrt(2. * (1. - 3. * y)))\n",
        "  elif 1./3. < y <= 2./3.:\n",
        "    return (5. + 2. * np.sqrt(3. * y - 1.))\n",
        "  elif 2./3 < y <= 1.:\n",
        "    return (9. - 2. * np.sqrt(3. * (1. - y)))\n",
        "  \n",
        "# define h(X)\n",
        "def h(x):\n",
        "  return( (1./(3*np.sqrt(2)*np.pi))*(np.exp(-1./18. * (x - 5.)**2)) )\n",
        "\n",
        "# inverse transform sampling\n",
        "from scipy.stats import uniform\n",
        "n = 10000\n",
        "y_u = uniform.rvs(0, 1, n)\n",
        "sample_x = list(map(fn_inv, y_u))\n",
        "\n",
        "# calculate h(X), E(h(X))\n",
        "sample_h = list(map(h,sample_x))\n",
        "EhX = np.mean(sample_h)\n",
        "print(EhX) #0.05871134315833916"
      ],
      "execution_count": 23,
      "outputs": [
        {
          "output_type": "stream",
          "text": [
            "0.05871134315833916\n"
          ],
          "name": "stdout"
        }
      ]
    },
    {
      "metadata": {
        "id": "ejgn6Kc-iG7f",
        "colab_type": "text"
      },
      "cell_type": "markdown",
      "source": [
        "> #### 1.2 Rejecting sampling using uniform distribution as proposal\n",
        "\n",
        "Find constant K such that $f_X\\leq Kg$ where g is the proposal distribution, in this case, a uniform.\n",
        "\n"
      ]
    },
    {
      "metadata": {
        "id": "XnzrHaqdict8",
        "colab_type": "code",
        "colab": {
          "base_uri": "https://localhost:8080/",
          "height": 300
        },
        "outputId": "ac6ea163-9d74-4ed4-d703-9fdd45afa0c7"
      },
      "cell_type": "code",
      "source": [
        "# create a specific function of uniform distribution that \n",
        "# either returns the pdf, or a random uniform value\n",
        "\n",
        "# first, plot both functions to see what we need for K\n",
        "\n",
        "xpts = np.linspace(0.75,9.25,1000)\n",
        "ypts = [fn(x) for x in xpts]\n",
        "upts = [uniform.pdf(x,loc=1,scale=9) for x in xpts]\n",
        "\n",
        "_ = plt.plot(xpts,ypts, color='salmon')\n",
        "_ = plt.plot(xpts,upts, color='aquamarine')\n",
        "_ = plt.title(\"Plotting uniform distribution against $f(x)$\")\n",
        "\n",
        "# from visual inspection, we can do K ~ 3\n",
        "K_u = 3\n",
        "\n",
        "# rejection sampling:\n",
        "\n",
        "desired_n = 10000\n",
        "sample_list = []\n",
        "\n",
        "while len(sample_list) < n:\n",
        "  temp_sample = uniform.rvs(loc=1,scale=9)\n",
        "  if uniform.rvs(0, K_u*uniform.pdf(temp_sample,loc=1,scale=9)) <= fn(temp_sample):\n",
        "    sample_list.append(temp_sample)\n",
        "    \n",
        "# calculate h(X), E(h(X))\n",
        "sample_h2 = list(map(h,sample_list))\n",
        "EhX = np.mean(sample_h2)\n",
        "\n",
        "print(EhX) #0.0585703948162901\n",
        "\n",
        "    "
      ],
      "execution_count": 36,
      "outputs": [
        {
          "output_type": "stream",
          "text": [
            "0.05882426567776492\n"
          ],
          "name": "stdout"
        },
        {
          "output_type": "display_data",
          "data": {
            "image/png": "[encoded data removed]",
            "text/plain": [
              "<matplotlib.figure.Figure at 0x7f0a06f69c88>"
            ]
          },
          "metadata": {
            "tags": []
          }
        }
      ]
    },
    {
      "metadata": {
        "id": "8eJvN8Em-ybR",
        "colab_type": "text"
      },
      "cell_type": "markdown",
      "source": [
        "<div class=\"answer-separator\">\n",
        "------------------------\n",
        "</div>"
      ]
    },
    {
      "metadata": {
        "id": "ylrdCLMe-ybS",
        "colab_type": "text"
      },
      "cell_type": "markdown",
      "source": [
        "## Question 2: The Consequences of O-ring Failure can be Painful and Deadly"
      ]
    },
    {
      "metadata": {
        "id": "G6VkPePh-ybU",
        "colab_type": "text"
      },
      "cell_type": "markdown",
      "source": [
        "**Coding required**\n",
        "\n",
        "In 1986, the space shuttle Challenger exploded during take off, killing the seven astronauts aboard. It is believed that the explosion was caused by the failure of an O-ring (a rubber ring that seals parts of the solid fuel rockets together), and that the failure was caused by the cold weather at the time of launch (31F).\n",
        "\n",
        "In the file chall.txt, you will find temperature (in Fahrenheit) and failure data from 23 shuttle launches, where 1 stands for O-ring failure and 0 no failure. We assume that the observed temperatures are fixed and that, at temperature $t$, an O-ring fails with probability $f(\\theta_{1}+\\theta_{2}t)$ conditionally on $\\Theta = (\\theta_1, \\theta_2)$.\n",
        "\n",
        "$f(\\mathbf{z})$ is defined to be the logistic function -- $f(\\mathbf{ z }) = 1/(1 + \\exp(\\mathbf{ -z }))$ \n",
        "\n",
        "**2.1.** Based on your own knowledge and experience, suggest a prior distribution for the regression parameters ($\\theta_1, \\theta_2$).  Make sure to explain your choice of prior. \n",
        "\n",
        "**2.2.** Produce 5000-10000 samples from the posterior distribution of $\\Theta $ using rejection sampling, and plot them and their marginals. (This may take a while.)\n",
        "\n",
        "**2.3.** Use the logit package in the `statsmodels` library to compute 68% confidence intervals on the $\\theta$ parameters.  Compare those intervals with the 68% credible intervals from the posterior above. Overlay these on the above marginals plots. \n",
        "\n",
        "**2.4.** Use the MLE values from `statsmodels` and the posterior mean from **2.2** at each temperature to plot the probability of failure in the frequentist and bayesian settings as a function of temperature. What do you see? \n",
        "\n",
        "**2.5.** Compute the mean posterior probability for an O-ring failure at $t = 31^\\circ F$. To do this you must calculate the posterior at $31^\\circ F$ and take the mean of the samples obtained.\n",
        "\n",
        "**2.6.** You can instead obtain the probability from the posterior predictive. Use the posterior samples to obtain samples from the posterior predictive at $31^\\circ F$ and calculate the fraction of failures.\n",
        "\n",
        "**2.7.** The day before a new launch, meteorologists predict that the temperature will be $T \\sim N(68, 1)$ during take-off. Estimate the probability for an O-ring failure during this take-off. (You will calculate multiple predictives at different temperatures for this purpose)."
      ]
    },
    {
      "metadata": {
        "id": "4wOhOcYI-ybW",
        "colab_type": "text"
      },
      "cell_type": "markdown",
      "source": [
        "<div class=\"answer-separator\">\n",
        "------------------------\n",
        "</div>"
      ]
    },
    {
      "metadata": {
        "id": "DRLSZof0D69L",
        "colab_type": "text"
      },
      "cell_type": "markdown",
      "source": [
        " > **2.1. **Based on your own knowledge and experience, suggest a prior distribution for the regression parameters ( 𝜃1,𝜃2 ). Make sure to explain your choice of prior."
      ]
    },
    {
      "metadata": {
        "id": "Yl0AchplDuuE",
        "colab_type": "text"
      },
      "cell_type": "markdown",
      "source": [
        "Our prior knowledge on this problem is quite limited, so we suggest a prior distribution that reflects this little knowledge. We do, however, pick the prior in such a way that at reasonable temperatures, the probability of a failure is small.\n",
        "\n",
        "So, our prior is a multivariate normal with uncorrelated components.\n",
        "\n",
        "Let's take a look at $p(a)$, the prior distribution for the intercept parameter. We take the mean of the prior distribution for $a$ to be $-1$ and its standard deviation to $2$. This means that (if the temparature coefficient is zero) that we have a mean probability of failure of slightly more than 25%. Also, we take the standard deviation to be 3 meaning that the 2 standard deviation confidence interval for the failure probabilities (again with temperature coefficient of zero) is between 0.7% and 95%.\n",
        "\n",
        "Next, for the prior of the temperature coefficient, $p(b)$. We take it to have mean zero and standard deviation of one. This means that a two-standard deviation sample from $p(b)$ and a one degree increase in temperature can push a probability of 50% to 88%, which would mean extreme sensitivity to temperature. So this prior is definitely not too constraining.\n",
        "\n",
        "Note that we'll center the temperature so that the above interpretation holds for the intercept parameter $a$."
      ]
    },
    {
      "metadata": {
        "id": "5Q_FiRnhEEMn",
        "colab_type": "code",
        "colab": {
          "base_uri": "https://localhost:8080/",
          "height": 311
        },
        "outputId": "d0be43d7-9968-4757-9a67-1e33853b4709"
      },
      "cell_type": "code",
      "source": [
        "mu = [-1, 0]\n",
        "sigma = [[2, 0], [0, 1]]\n",
        "\n",
        "prior_samples = scipy.stats.multivariate_normal.rvs(mean=mu, cov=sigma, size=1000)\n",
        "prior_means = prior_samples[:, 0] \n",
        "prior_ps = scipy.special.expit(prior_means)\n",
        "prior_results = scipy.stats.bernoulli.rvs(p=prior_ps, size=prior_samples.shape[0])\n",
        "sns.distplot(prior_results, kde=False, norm_hist=False)\n",
        "plt.xlabel(\"Proportion of failues\")\n",
        "plt.ylabel(\"Failues out of 1000\")\n",
        "plt.title(\"Prior specification at mean temperature\")"
      ],
      "execution_count": 3,
      "outputs": [
        {
          "output_type": "execute_result",
          "data": {
            "text/plain": [
              "Text(0.5,1,'Prior specification at mean temperature')"
            ]
          },
          "metadata": {
            "tags": []
          },
          "execution_count": 3
        },
        {
          "output_type": "display_data",
          "data": {
            "image/png": "[encoded data removed]",
            "text/plain": [
              "<matplotlib.figure.Figure at 0x7f9f3eb14208>"
            ]
          },
          "metadata": {
            "tags": []
          }
        }
      ]
    },
    {
      "metadata": {
        "id": "weHNHJitESfu",
        "colab_type": "text"
      },
      "cell_type": "markdown",
      "source": [
        "> **2.2.** Produce 5000-10000 samples from the posterior distribution of $\\Theta $ using rejection sampling, and plot them and their marginals. (This may take a while.)"
      ]
    },
    {
      "metadata": {
        "id": "leMOcP-bEdAQ",
        "colab_type": "code",
        "colab": {
          "base_uri": "https://localhost:8080/",
          "height": 204
        },
        "outputId": "6f47a8ba-5646-4df4-f016-d1f1b3260736"
      },
      "cell_type": "code",
      "source": [
        "\n",
        "chall =pd.read_fwf(\"http://am207.info/homeworks/chall.txt\",sep='\\s+',names=['Temperature','Failure'])\n",
        "chall['Temperature_centered'] = chall['Temperature'] - chall['Temperature'].mean()\n",
        "chall.head()"
      ],
      "execution_count": 6,
      "outputs": [
        {
          "output_type": "execute_result",
          "data": {
            "text/html": [
              "<div>\n",
              "<style scoped>\n",
              "    .dataframe tbody tr th:only-of-type {\n",
              "        vertical-align: middle;\n",
              "    }\n",
              "\n",
              "    .dataframe tbody tr th {\n",
              "        vertical-align: top;\n",
              "    }\n",
              "\n",
              "    .dataframe thead th {\n",
              "        text-align: right;\n",
              "    }\n",
              "</style>\n",
              "<table border=\"1\" class=\"dataframe\">\n",
              "  <thead>\n",
              "    <tr style=\"text-align: right;\">\n",
              "      <th></th>\n",
              "      <th>Temperature</th>\n",
              "      <th>Failure</th>\n",
              "      <th>Temperature_centered</th>\n",
              "    </tr>\n",
              "  </thead>\n",
              "  <tbody>\n",
              "    <tr>\n",
              "      <th>0</th>\n",
              "      <td>66</td>\n",
              "      <td>0</td>\n",
              "      <td>-3.565217</td>\n",
              "    </tr>\n",
              "    <tr>\n",
              "      <th>1</th>\n",
              "      <td>70</td>\n",
              "      <td>1</td>\n",
              "      <td>0.434783</td>\n",
              "    </tr>\n",
              "    <tr>\n",
              "      <th>2</th>\n",
              "      <td>69</td>\n",
              "      <td>0</td>\n",
              "      <td>-0.565217</td>\n",
              "    </tr>\n",
              "    <tr>\n",
              "      <th>3</th>\n",
              "      <td>68</td>\n",
              "      <td>0</td>\n",
              "      <td>-1.565217</td>\n",
              "    </tr>\n",
              "    <tr>\n",
              "      <th>4</th>\n",
              "      <td>67</td>\n",
              "      <td>0</td>\n",
              "      <td>-2.565217</td>\n",
              "    </tr>\n",
              "  </tbody>\n",
              "</table>\n",
              "</div>"
            ],
            "text/plain": [
              "   Temperature  Failure  Temperature_centered\n",
              "0           66        0             -3.565217\n",
              "1           70        1              0.434783\n",
              "2           69        0             -0.565217\n",
              "3           68        0             -1.565217\n",
              "4           67        0             -2.565217"
            ]
          },
          "metadata": {
            "tags": []
          },
          "execution_count": 6
        }
      ]
    },
    {
      "metadata": {
        "id": "X5Gg9PGmFlpz",
        "colab_type": "text"
      },
      "cell_type": "markdown",
      "source": [
        "Note that in this case, we have a natural probability distribution that we can use to generate the samples for rejection samples, namely the prior distribution itself. The point is that the likelihood $p(y\\vert \\Theta) \\leq 1$ (for a single datapoint), so the posterior $p(\\Theta \\vert y) \\propto p(\\Theta) p(y\\vert \\Theta) \\leq p(\\Theta)$. It suffices for rejection sampling that we work with the unnormalized posterior here."
      ]
    },
    {
      "metadata": {
        "id": "zbSe14ICFqQi",
        "colab_type": "code",
        "colab": {}
      },
      "cell_type": "code",
      "source": [
        "n = chall.shape[0]\n",
        "n_samples = 5000\n",
        "posterior = np.empty((n_samples, 2))\n",
        "n_sampled = 0\n",
        "while n_sampled < n_samples:\n",
        "    \n",
        "    a, b = scipy.stats.multivariate_normal.rvs(mean=mu, cov=sigma)\n",
        "    logits = a + chall['Temperature_centered'] * b\n",
        "    p = scipy.special.expit(logits).values\n",
        "    l = chall['Failure'] * p + (1-chall['Failure']) * (1-p)\n",
        "\n",
        "    prior_l = scipy.stats.multivariate_normal.pdf([a, b], mean=mu, cov=sigma) \n",
        "    proposal_l = l.sum() * prior_l / n\n",
        "    \n",
        "    if np.random.uniform() <= proposal_l / prior_l:\n",
        "        posterior[n_sampled, :] = [a, b]\n",
        "        n_sampled += 1"
      ],
      "execution_count": 0,
      "outputs": []
    },
    {
      "metadata": {
        "id": "2bXFc2F1FygE",
        "colab_type": "code",
        "colab": {
          "base_uri": "https://localhost:8080/",
          "height": 458
        },
        "outputId": "20eeb26e-c97b-4cc7-ef06-59c2f241bafd"
      },
      "cell_type": "code",
      "source": [
        "posterior_df = pd.DataFrame(posterior, columns=['Intercept', 'Temperature coefficient'])\n",
        "sns.jointplot('Intercept', 'Temperature coefficient', data=posterior_df)"
      ],
      "execution_count": 8,
      "outputs": [
        {
          "output_type": "execute_result",
          "data": {
            "text/plain": [
              "<seaborn.axisgrid.JointGrid at 0x7f9f3c090898>"
            ]
          },
          "metadata": {
            "tags": []
          },
          "execution_count": 8
        },
        {
          "output_type": "display_data",
          "data": {
            "image/png": "[encoded data removed]",
            "text/plain": [
              "<matplotlib.figure.Figure at 0x7f9f3c090860>"
            ]
          },
          "metadata": {
            "tags": []
          }
        }
      ]
    },
    {
      "metadata": {
        "id": "8CclOChsF3K3",
        "colab_type": "text"
      },
      "cell_type": "markdown",
      "source": [
        "> **2.3.** Use the logit package in the `statsmodels` library to compute 68% confidence intervals on the $\\theta$ parameters.  Compare those intervals with the 68% credible intervals from the posterior above. Overlay these on the above marginals plots. "
      ]
    },
    {
      "metadata": {
        "id": "fhQ6AeJmF8CG",
        "colab_type": "text"
      },
      "cell_type": "markdown",
      "source": [
        "We use the formula interface to `statsmodels` to calculate the model."
      ]
    },
    {
      "metadata": {
        "id": "6reC_hmkF4-I",
        "colab_type": "code",
        "colab": {
          "base_uri": "https://localhost:8080/",
          "height": 68
        },
        "outputId": "b4ccb91e-3eee-402b-cc19-cac22d001c0d"
      },
      "cell_type": "code",
      "source": [
        "import statsmodels.formula.api as sm\n",
        " \n",
        "model = sm.logit('Failure ~ Temperature_centered', data=chall)\n",
        "result = model.fit()"
      ],
      "execution_count": 9,
      "outputs": [
        {
          "output_type": "stream",
          "text": [
            "Optimization terminated successfully.\n",
            "         Current function value: 0.441635\n",
            "         Iterations 6\n"
          ],
          "name": "stdout"
        }
      ]
    },
    {
      "metadata": {
        "id": "-KQ3YpHSGD0Z",
        "colab_type": "text"
      },
      "cell_type": "markdown",
      "source": [
        "Let's look at the summary. The coefficients seem to be similar to the ones from the Bayesian analysis."
      ]
    },
    {
      "metadata": {
        "id": "tmXdM628GEz7",
        "colab_type": "code",
        "colab": {
          "base_uri": "https://localhost:8080/",
          "height": 252
        },
        "outputId": "4521af17-750c-47f9-903e-62319dfa3fc9"
      },
      "cell_type": "code",
      "source": [
        "result.summary2()"
      ],
      "execution_count": 10,
      "outputs": [
        {
          "output_type": "execute_result",
          "data": {
            "text/html": [
              "<table class=\"simpletable\">\n",
              "<tr>\n",
              "        <td>Model:</td>              <td>Logit</td>      <td>Pseudo R-squared:</td>   <td>0.281</td>  \n",
              "</tr>\n",
              "<tr>\n",
              "  <td>Dependent Variable:</td>      <td>Failure</td>           <td>AIC:</td>         <td>24.3152</td> \n",
              "</tr>\n",
              "<tr>\n",
              "         <td>Date:</td>        <td>2018-10-13 11:03</td>       <td>BIC:</td>         <td>26.5862</td> \n",
              "</tr>\n",
              "<tr>\n",
              "   <td>No. Observations:</td>         <td>23</td>         <td>Log-Likelihood:</td>   <td>-10.158</td> \n",
              "</tr>\n",
              "<tr>\n",
              "       <td>Df Model:</td>              <td>1</td>            <td>LL-Null:</td>       <td>-14.134</td> \n",
              "</tr>\n",
              "<tr>\n",
              "     <td>Df Residuals:</td>           <td>21</td>          <td>LLR p-value:</td>    <td>0.0048035</td>\n",
              "</tr>\n",
              "<tr>\n",
              "      <td>Converged:</td>           <td>1.0000</td>           <td>Scale:</td>        <td>1.0000</td>  \n",
              "</tr>\n",
              "<tr>\n",
              "    <td>No. Iterations:</td>        <td>6.0000</td>              <td></td>              <td></td>     \n",
              "</tr>\n",
              "</table>\n",
              "<table class=\"simpletable\">\n",
              "<tr>\n",
              "            <td></td>            <th>Coef.</th>  <th>Std.Err.</th>    <th>z</th>     <th>P>|z|</th> <th>[0.025</th>  <th>0.975]</th> \n",
              "</tr>\n",
              "<tr>\n",
              "  <th>Intercept</th>            <td>-1.1076</td>  <td>0.5796</td>  <td>-1.9108</td> <td>0.0560</td> <td>-2.2436</td> <td>0.0285</td> \n",
              "</tr>\n",
              "<tr>\n",
              "  <th>Temperature_centered</th> <td>-0.2322</td>  <td>0.1082</td>  <td>-2.1450</td> <td>0.0320</td> <td>-0.4443</td> <td>-0.0200</td>\n",
              "</tr>\n",
              "</table>"
            ],
            "text/plain": [
              "<class 'statsmodels.iolib.summary2.Summary'>\n",
              "\"\"\"\n",
              "                           Results: Logit\n",
              "====================================================================\n",
              "Model:                Logit             Pseudo R-squared:  0.281    \n",
              "Dependent Variable:   Failure           AIC:               24.3152  \n",
              "Date:                 2018-10-13 11:03  BIC:               26.5862  \n",
              "No. Observations:     23                Log-Likelihood:    -10.158  \n",
              "Df Model:             1                 LL-Null:           -14.134  \n",
              "Df Residuals:         21                LLR p-value:       0.0048035\n",
              "Converged:            1.0000            Scale:             1.0000   \n",
              "No. Iterations:       6.0000                                        \n",
              "--------------------------------------------------------------------\n",
              "                      Coef.  Std.Err.    z    P>|z|   [0.025  0.975]\n",
              "--------------------------------------------------------------------\n",
              "Intercept            -1.1076   0.5796 -1.9108 0.0560 -2.2436  0.0285\n",
              "Temperature_centered -0.2322   0.1082 -2.1450 0.0320 -0.4443 -0.0200\n",
              "====================================================================\n",
              "\n",
              "\"\"\""
            ]
          },
          "metadata": {
            "tags": []
          },
          "execution_count": 10
        }
      ]
    },
    {
      "metadata": {
        "id": "KIW25H7bGKJ8",
        "colab_type": "code",
        "colab": {
          "base_uri": "https://localhost:8080/",
          "height": 111
        },
        "outputId": "93d05f8e-104a-4a93-af8a-98a5fa31c5a5"
      },
      "cell_type": "code",
      "source": [
        "np.sqrt(result.cov_params())"
      ],
      "execution_count": 11,
      "outputs": [
        {
          "output_type": "execute_result",
          "data": {
            "text/html": [
              "<div>\n",
              "<style scoped>\n",
              "    .dataframe tbody tr th:only-of-type {\n",
              "        vertical-align: middle;\n",
              "    }\n",
              "\n",
              "    .dataframe tbody tr th {\n",
              "        vertical-align: top;\n",
              "    }\n",
              "\n",
              "    .dataframe thead th {\n",
              "        text-align: right;\n",
              "    }\n",
              "</style>\n",
              "<table border=\"1\" class=\"dataframe\">\n",
              "  <thead>\n",
              "    <tr style=\"text-align: right;\">\n",
              "      <th></th>\n",
              "      <th>Intercept</th>\n",
              "      <th>Temperature_centered</th>\n",
              "    </tr>\n",
              "  </thead>\n",
              "  <tbody>\n",
              "    <tr>\n",
              "      <th>Intercept</th>\n",
              "      <td>0.579618</td>\n",
              "      <td>0.136308</td>\n",
              "    </tr>\n",
              "    <tr>\n",
              "      <th>Temperature_centered</th>\n",
              "      <td>0.136308</td>\n",
              "      <td>0.108237</td>\n",
              "    </tr>\n",
              "  </tbody>\n",
              "</table>\n",
              "</div>"
            ],
            "text/plain": [
              "                      Intercept  Temperature_centered\n",
              "Intercept              0.579618              0.136308\n",
              "Temperature_centered   0.136308              0.108237"
            ]
          },
          "metadata": {
            "tags": []
          },
          "execution_count": 11
        }
      ]
    },
    {
      "metadata": {
        "id": "lN-rkJuoGOss",
        "colab_type": "text"
      },
      "cell_type": "markdown",
      "source": [
        "Let's plot the marginals here as well:"
      ]
    },
    {
      "metadata": {
        "id": "bj3GvA-0GQUH",
        "colab_type": "code",
        "colab": {
          "base_uri": "https://localhost:8080/",
          "height": 296
        },
        "outputId": "20599c37-5dac-4bc9-cf04-9c35e8f5bd35"
      },
      "cell_type": "code",
      "source": [
        "variable = 'Intercept'\n",
        "sns.distplot(posterior_df[variable])\n",
        "plt.axvline(np.percentile(posterior_df[variable], 68), label='Bayesian CI')\n",
        "plt.axvline(np.percentile(posterior_df[variable], 32))\n",
        "plt.axvline(result.params[variable] + np.sqrt(result.cov_params()[variable][variable]) , c='red', label='Frequentist CI')\n",
        "plt.axvline(result.params[variable] - np.sqrt(result.cov_params()[variable][variable]) , c='red')\n",
        "\n",
        "plt.legend()"
      ],
      "execution_count": 12,
      "outputs": [
        {
          "output_type": "execute_result",
          "data": {
            "text/plain": [
              "<matplotlib.legend.Legend at 0x7f9f3b823c88>"
            ]
          },
          "metadata": {
            "tags": []
          },
          "execution_count": 12
        },
        {
          "output_type": "display_data",
          "data": {
            "image/png": "[encoded data removed]",
            "text/plain": [
              "<matplotlib.figure.Figure at 0x7f9f3b80cba8>"
            ]
          },
          "metadata": {
            "tags": []
          }
        }
      ]
    },
    {
      "metadata": {
        "id": "17sHc_QSGV79",
        "colab_type": "code",
        "colab": {
          "base_uri": "https://localhost:8080/",
          "height": 296
        },
        "outputId": "cca2091f-d0bf-41e1-fad0-f562d9a18b4f"
      },
      "cell_type": "code",
      "source": [
        "variable = 'Temperature coefficient'\n",
        "sns.distplot(posterior_df[variable])\n",
        "plt.axvline(np.percentile(posterior_df[variable], 68), label='Bayesian CI')\n",
        "plt.axvline(np.percentile(posterior_df[variable], 32))\n",
        "plt.axvline(result.params['Temperature_centered'] + np.sqrt(result.cov_params()['Temperature_centered']['Temperature_centered']), c='red', label='Frequentist CI')\n",
        "plt.axvline(result.params['Temperature_centered'] - np.sqrt(result.cov_params()['Temperature_centered']['Temperature_centered']) , c='red')\n",
        "\n",
        "plt.legend()"
      ],
      "execution_count": 13,
      "outputs": [
        {
          "output_type": "execute_result",
          "data": {
            "text/plain": [
              "<matplotlib.legend.Legend at 0x7f9f3b634438>"
            ]
          },
          "metadata": {
            "tags": []
          },
          "execution_count": 13
        },
        {
          "output_type": "display_data",
          "data": {
            "image/png": "[encoded data removed]",
            "text/plain": [
              "<matplotlib.figure.Figure at 0x7f9f3b80cf28>"
            ]
          },
          "metadata": {
            "tags": []
          }
        }
      ]
    },
    {
      "metadata": {
        "id": "QfYEIPHbGc2s",
        "colab_type": "text"
      },
      "cell_type": "markdown",
      "source": [
        "> **2.4.** Use the MLE values from `statsmodels` and the posterior mean from **2.2** at each temperature to plot the probability of failure in the frequentist and bayesian settings as a function of temperature. What do you see? "
      ]
    },
    {
      "metadata": {
        "id": "hSMurb_gGa6O",
        "colab_type": "code",
        "colab": {
          "base_uri": "https://localhost:8080/",
          "height": 311
        },
        "outputId": "f4996478-01eb-4e0b-8443-6548b87c246d"
      },
      "cell_type": "code",
      "source": [
        "preds_freq = result.predict(chall['Temperature_centered'])\n",
        "chall['preds_freq'] = preds_freq\n",
        "chall['preds_bayes_mean'] = scipy.special.expit(posterior_df['Intercept'].mean() + posterior_df['Temperature coefficient'].mean() * chall['Temperature_centered'])\n",
        "\n",
        "plt.plot(chall['Temperature'], chall['preds_freq'], 'o', label='Frequentist mean prediction')\n",
        "plt.plot(chall['Temperature'], chall['preds_bayes_mean'], 'o', label='Bayesian mean prediction')\n",
        "plt.legend()\n",
        "plt.xlabel('Temperature')\n",
        "plt.ylabel('Probability of failure')\n",
        "plt.title('Bayesian predictions are slightly regularized')"
      ],
      "execution_count": 14,
      "outputs": [
        {
          "output_type": "execute_result",
          "data": {
            "text/plain": [
              "Text(0.5,1,'Bayesian predictions are slightly regularized')"
            ]
          },
          "metadata": {
            "tags": []
          },
          "execution_count": 14
        },
        {
          "output_type": "display_data",
          "data": {
            "image/png": "[encoded data removed]",
            "text/plain": [
              "<matplotlib.figure.Figure at 0x7f9f3c109dd8>"
            ]
          },
          "metadata": {
            "tags": []
          }
        }
      ]
    },
    {
      "metadata": {
        "id": "MSz4fAOiGj4c",
        "colab_type": "text"
      },
      "cell_type": "markdown",
      "source": [
        "We see that the Bayesian predictions are slightly regularized in the sense that they predict lower probabilities of failure."
      ]
    },
    {
      "metadata": {
        "id": "QtmLaSLIGnxO",
        "colab_type": "text"
      },
      "cell_type": "markdown",
      "source": [
        "> **2.5.** Compute the mean posterior probability for an O-ring failure at $t = 31^\\circ F$. To do this you must calculate the posterior at $31^\\circ F$ and take the mean of the samples obtained."
      ]
    },
    {
      "metadata": {
        "id": "tS9BBTfDGkkv",
        "colab_type": "code",
        "colab": {
          "base_uri": "https://localhost:8080/",
          "height": 282
        },
        "outputId": "1fa242c5-7f81-4202-8a9e-74235f5e5cfc"
      },
      "cell_type": "code",
      "source": [
        "logits_31 = posterior_df['Intercept'] + posterior_df['Temperature coefficient'] * (31 - chall['Temperature'].mean())\n",
        "p_31 = scipy.special.expit(logits_31)\n",
        "sns.distplot(p_31)\n",
        "plt.axvline(p_31.mean(), label='Mean posterior probability of failure')\n",
        "plt.legend()"
      ],
      "execution_count": 15,
      "outputs": [
        {
          "output_type": "execute_result",
          "data": {
            "text/plain": [
              "<matplotlib.legend.Legend at 0x7f9f3b596860>"
            ]
          },
          "metadata": {
            "tags": []
          },
          "execution_count": 15
        },
        {
          "output_type": "display_data",
          "data": {
            "image/png": "[encoded data removed]",
            "text/plain": [
              "<matplotlib.figure.Figure at 0x7f9f3b8205c0>"
            ]
          },
          "metadata": {
            "tags": []
          }
        }
      ]
    },
    {
      "metadata": {
        "id": "yCQqULB_Gwwb",
        "colab_type": "code",
        "colab": {
          "base_uri": "https://localhost:8080/",
          "height": 34
        },
        "outputId": "a97b114b-5100-4f6c-9d9b-466edf1259c5"
      },
      "cell_type": "code",
      "source": [
        "print(\"Mean posterior probability of failure at 31: {:.3f}\".format(p_31.mean()))"
      ],
      "execution_count": 16,
      "outputs": [
        {
          "output_type": "stream",
          "text": [
            "Mean posterior probability of failure at 31: 0.607\n"
          ],
          "name": "stdout"
        }
      ]
    },
    {
      "metadata": {
        "id": "hTspwUl-G0FM",
        "colab_type": "text"
      },
      "cell_type": "markdown",
      "source": [
        "This is much lower than in the frequentist setting, where it would be close to 1."
      ]
    },
    {
      "metadata": {
        "id": "P2g_5M4jG6Fo",
        "colab_type": "text"
      },
      "cell_type": "markdown",
      "source": [
        "> **2.6.** You can instead obtain the probability from the posterior predictive. Use the posterior samples to obtain samples from the posterior predictive at $31^\\circ F$ and calculate the fraction of failures."
      ]
    },
    {
      "metadata": {
        "id": "QcB1qxuuG1E7",
        "colab_type": "code",
        "colab": {
          "base_uri": "https://localhost:8080/",
          "height": 34
        },
        "outputId": "50c8ab93-f6bc-467b-8449-424f4fc36749"
      },
      "cell_type": "code",
      "source": [
        "posteror_failure_rate_31 = np.random.binomial(n=1, size=p_31.shape[0], p=p_31).mean()\n",
        "print(\"Posterior probability of failure at 31: {:.3f}\".format(p_31.mean()))"
      ],
      "execution_count": 17,
      "outputs": [
        {
          "output_type": "stream",
          "text": [
            "Posterior probability of failure at 31: 0.607\n"
          ],
          "name": "stdout"
        }
      ]
    },
    {
      "metadata": {
        "id": "egLGu7UEHBMv",
        "colab_type": "text"
      },
      "cell_type": "markdown",
      "source": [
        "It's pretty much the same. This is clear by looking at the graph above, since the predictions are very localized near 0 and 1."
      ]
    },
    {
      "metadata": {
        "id": "rAMGCufkHCR_",
        "colab_type": "text"
      },
      "cell_type": "markdown",
      "source": [
        "> **2.7.** The day before a new launch, meteorologists predict that the temperature will be $T \\sim N(68, 1)$ during take-off. Estimate the probability for an O-ring failure during this take-off. (You will calculate multiple predictives at different temperatures for this purpose)."
      ]
    },
    {
      "metadata": {
        "id": "CaFND_UZHHSS",
        "colab_type": "text"
      },
      "cell_type": "markdown",
      "source": [
        "We sample as many temperatures as we have posterior samples, do predictions using our posterior and then run the probabilities through a Bernoulli. Finally, we calculate the mean failure rate. It's around 38%."
      ]
    },
    {
      "metadata": {
        "id": "_MLqrbcRHID0",
        "colab_type": "code",
        "colab": {
          "base_uri": "https://localhost:8080/",
          "height": 34
        },
        "outputId": "f6cf9cf7-6879-413d-d237-22be3414fb05"
      },
      "cell_type": "code",
      "source": [
        "n_new = n_sampled\n",
        "failures = np.empty(n_new)\n",
        "T = np.random.normal(68, 1, size=n_new)\n",
        "logits_68 = posterior_df['Intercept'] + posterior_df['Temperature coefficient'] * (68 - chall['Temperature'].mean())\n",
        "p_68 = scipy.special.expit(logits_68)\n",
        "print(\"Probability of failure at 68: {:.3f}\".format(scipy.random.binomial(n=1, p=p_68).mean()))"
      ],
      "execution_count": 18,
      "outputs": [
        {
          "output_type": "stream",
          "text": [
            "Probability of failure at 68: 0.376\n"
          ],
          "name": "stdout"
        }
      ]
    },
    {
      "metadata": {
        "id": "kifCCQRB-ybW",
        "colab_type": "text"
      },
      "cell_type": "markdown",
      "source": [
        "## Question 3: Maximum Uniformity -- Frequentist Bootstraps and the Bayesian Posterior"
      ]
    },
    {
      "metadata": {
        "id": "ffxskd5s-ybY",
        "colab_type": "text"
      },
      "cell_type": "markdown",
      "source": [
        "**Coding required**\n",
        "\n",
        "Recall in HW 3 Question 1 we attempted to explore an edge case in using non-parametric bootstrap to construct confidence intervals.  Let's revisit the setup of that problem.\n",
        "Suppose you have $\\{X_1, X_2, ... X_n\\}$ datapoints such that $X_i$ are independently and identically drawn from a $Unif(0, \\theta)$.  Consider the extreme order statistic Y = $X_{(n)}$ = max($X_1, X_2, ... X_n$).\n",
        "\n",
        "**3.1.** Derive (or possibly re-write from HW3) expressions for $F_Y(y\\ \\vert\\ n, \\theta)$ the CDF of Y and $f_Y(y\\ |\\ n, \\theta)$ the pdf of Y.\n",
        "\n",
        "**3.2.** In HW3 we had difficulty constructing confidence intervals to estimate $\\theta$ using our normal percentiles methods so instead we introduced pivot confidence intervals.  Let's reframe the problem so that we can use percentiles to construct our confidence intervals.  Define $Z \\equiv n \\cdot (\\theta - Y)$ and use elementary calculation to write an expression for $F_Z(z\\ \\vert\\ n, \\theta)$ the CDF of $Z$ and $f_Z(z\\ \\vert\\ n, \\theta)$ the pdf of Z.\n",
        "\n",
        "**3.3.** What is the limiting distribution of Z (as $n \\rightarrow \\infty$)?  Plot that limiting distribution.\n",
        "\n",
        "**3.4.** Use scipy/numpy to generate 100000 samples {$X_i$} from Unif(0,100) (i.e. let $\\theta$ = 100).  Store them in Based on your data sample, what's $\\hat{\\theta}$ the empirical estimate for $\\theta$.\n",
        "\n",
        "**3.5.** Use non-parametric bootstrap to generate a sampling distribution of 10000 estimates for $Z$ by substituting $\\hat{\\theta}$ for $\\theta$.  Plot a histogram of your sampling distribution.  Make sure to title and label the plot.  Use percentiles to construct the 10% and 68% bootstrap confidence intervals.  Plot them in your graph.\n",
        "\n",
        "**Hint:  Should the confidence intervals be symmetric around the estimate $\\hat{\\theta}$**?\n",
        "\n",
        "**3.6.** Make an argument that we can construct a bootstrap confidence interval that always mismatches the limiting distribution.\n",
        "\n",
        "**3.7.** Let's switch to being Bayesian.  In 3.1 we came up with an expression for the likelihood $f_Y(y\\ |\\ n, \\theta)$.  Use the [Pareto distribution](https://en.wikipedia.org/wiki/Pareto_distribution) to construct a prior for $\\theta$.  What are some reasonable values to use for the scale and shape?\n",
        "\n",
        "**3.8.** Write down an expression for the posterior distribution $f_Y(\\theta\\ |\\ n, y)$ \n",
        "\n",
        "**3.9.** Draw 10000 posterior samples and plot a histogram of the posterior distribution.  Use percentiles to construct the 68% HPD.  Plot the posterior distribution and mark the HPD on your plot.\n",
        "\n",
        "**3.10.** How does the 68% HPD compare with the confidence interval generated from bootstrapping?  Why doesn't the bayesian interval construction suffer the same concerns you noted in 3.6"
      ]
    },
    {
      "metadata": {
        "id": "Eh_hfkBFggT6",
        "colab_type": "text"
      },
      "cell_type": "markdown",
      "source": [
        "> **3.1.** Derive (or possibly re-write from HW3) expressions for $F_Y(y\\ \\vert\\ n, \\theta)$ the CDF of Y and $f_Y(y\\ |\\ n, \\theta)$ the pdf of Y."
      ]
    },
    {
      "metadata": {
        "id": "q39_hqWNglh4",
        "colab_type": "text"
      },
      "cell_type": "markdown",
      "source": [
        "**CDF**\n",
        "$$\\begin{equation}\n",
        "\\begin{split}\n",
        "F_Y(y\\vert n,\\theta) = \\Pr \\left(X_{(n)} \\leq y \\vert \\theta\\right) = \\Pr \\left(X_1, \\dots, X_n \\leq y \\vert \\theta \\right) = \\prod_{i = 1} ^ n \\Pr\\left(X_i \\leq y \\vert \\theta \\right) \\\\\n",
        "=  \\begin{cases}\n",
        " 0 \\text{ if } y \\leq 0 \\\\\n",
        " \\left(\\frac{y}{\\theta}\\right) ^ n \\text{ if } 0 < y \\leq \\theta \\\\\n",
        " 1 \\text{ if } y \\geq \\theta\n",
        "\\end{cases}\n",
        "\\end{split}\n",
        "\\end{equation}\n",
        "$$\n",
        "\n",
        "**PDF**\n",
        "\n",
        "$$ f_Y(Y\\vert\\theta)  = \\frac{d F_Y(Y\\vert \\theta)}{d Y} = \n",
        "\\begin{cases}\n",
        "0 \\text{ if } Y \\leq 0 \\\\\n",
        "n Y^{n-1} / \\theta ^ n \\text{ if } 0 \\leq Y < \\theta \\\\\n",
        "0 \\text{  if } Y \\geq \\theta\n",
        "\\end{cases}$$"
      ]
    },
    {
      "metadata": {
        "id": "sCuj4oTFgpax",
        "colab_type": "text"
      },
      "cell_type": "markdown",
      "source": [
        "> **3.2.** In HW3 we had difficulty constructing confidence intervals to estimate $\\theta$ using our normal percentiles methods so instead we introduced pivot confidence intervals.  Let's reframe the problem so that we can use percentiles to construct our confidence intervals.  Define $Z \\equiv n \\cdot (\\theta - Y)$ and use elementary calculation to write an expression for $F_Z(z\\ \\vert\\ n, \\theta)$ the CDF of $Z$ and $f_Z(z\\ \\vert\\ n, \\theta)$ the pdf of Z."
      ]
    },
    {
      "metadata": {
        "id": "nJAQPd9mgtBY",
        "colab_type": "text"
      },
      "cell_type": "markdown",
      "source": [
        "$$\n",
        "F_Z(z\\ \\vert\\ n, \\theta) = \\Pr(Z \\leq z \\vert n, \\theta) = \\\\\n",
        "\\Pr\\left(n \\left(\\theta - Y\\right) \\leq z \\vert n, \\theta \\right) = \\\\\n",
        "\\Pr\\left(\\theta - \\frac{z}{n} \\leq Y \\right) = \\\\\n",
        "\\Pr\\left(Y \\geq \\theta - \\frac{z}{n}\\right) = \\\\\n",
        "1 - \\Pr\\left(Y < \\theta - \\frac{z}{n} \\right) = \\\\\n",
        "1 - \\prod_i\\Pr\\left(X_i < \\theta - \\frac{z}{n} \\right) = \\\\\n",
        "=\n",
        "\\begin{align}\n",
        "\\begin{cases}\n",
        "0 & \\text{if }  z \\leq 0\\\\\n",
        "1 & \\text{if } z \\geq n \\theta \\\\\n",
        "1 - \\left( 1 - \\frac{z}{\\theta n}\\right)^n & \\text{else}  \\\\\n",
        "\\end{cases}\n",
        "\\end{align}\n",
        "$$"
      ]
    },
    {
      "metadata": {
        "id": "hs6tnD3ngvP4",
        "colab_type": "text"
      },
      "cell_type": "markdown",
      "source": [
        "The pdf is now easy to derive as well:\n",
        "$$\n",
        "f_Z(z\\vert n, \\theta)\n",
        "=\n",
        "\\begin{align}\n",
        "\\begin{cases}\n",
        "0 & \\text{if } z \\leq 0 \\text{ or } z \\geq n \\theta \\\\\n",
        "\\left(1 - \\frac{z}{\\theta n}\\right)^{n-1}\\frac{1}{\\theta} & \\text{else}\n",
        "\\end{cases}\n",
        "\\end{align} \\\\\n",
        "$$"
      ]
    },
    {
      "metadata": {
        "id": "hfzhZ8LEhGMB",
        "colab_type": "text"
      },
      "cell_type": "markdown",
      "source": [
        "> **3.3.** What is the limiting distribution of Z (as $n \\rightarrow \\infty$)?  Plot that limiting distribution."
      ]
    },
    {
      "metadata": {
        "id": "8rRGsau-hJB4",
        "colab_type": "text"
      },
      "cell_type": "markdown",
      "source": [
        "From the expression above, it's clear that this distribuion converges to an **exponential distribution with mean $\\theta$** in the limit $n\\rightarrow \\infty$."
      ]
    },
    {
      "metadata": {
        "id": "J-TOVbE5hLO5",
        "colab_type": "code",
        "colab": {
          "base_uri": "https://localhost:8080/",
          "height": 313
        },
        "outputId": "f1c2127f-b2fc-434a-8454-d3813b4ebec7"
      },
      "cell_type": "code",
      "source": [
        "x = np.arange(0, 800, 0.01)\n",
        "theta = 100\n",
        "plt.plot(x, scipy.stats.expon.pdf(x, scale=theta))\n",
        "plt.xlabel(\"y\")\n",
        "plt.ylabel(\"Density\")\n",
        "plt.title(r\"Limiting distribution is exponential with mean $\\theta$\")"
      ],
      "execution_count": 4,
      "outputs": [
        {
          "output_type": "execute_result",
          "data": {
            "text/plain": [
              "Text(0.5,1,'Limiting distribution is exponential with mean $\\\\theta$')"
            ]
          },
          "metadata": {
            "tags": []
          },
          "execution_count": 4
        },
        {
          "output_type": "display_data",
          "data": {
            "image/png": "[encoded data removed]",
            "text/plain": [
              "<matplotlib.figure.Figure at 0x7fd18db71828>"
            ]
          },
          "metadata": {
            "tags": []
          }
        }
      ]
    },
    {
      "metadata": {
        "id": "QIE4sfBxhYaA",
        "colab_type": "text"
      },
      "cell_type": "markdown",
      "source": [
        "> **3.4. Use scipy/numpy to generate 100000 samples {$X_i$} from Unif(0,100) (i.e. let $\\theta$ = 100).  Store them in Based on your data sample, what's $\\hat{\\theta}$ the empirical estimate for $\\theta$.**"
      ]
    },
    {
      "metadata": {
        "id": "YTjtuncd3xrN",
        "colab_type": "text"
      },
      "cell_type": "markdown",
      "source": [
        "We use the maximum likelihood estimate $\\hat \\theta = \\max_i(x_i)$"
      ]
    },
    {
      "metadata": {
        "id": "BqzKkmL0hbGA",
        "colab_type": "code",
        "colab": {
          "base_uri": "https://localhost:8080/",
          "height": 34
        },
        "outputId": "93cf53e0-f21f-4b87-bfa6-0f042eaf5d5d"
      },
      "cell_type": "code",
      "source": [
        "np.random.seed(0)\n",
        "theta = 100\n",
        "n_samples = 100000\n",
        "uniform_samples = np.random.uniform(high=theta, size=n_samples)\n",
        "theta_hat = np.max(uniform_samples)\n",
        "print(r\"Empirical estimate for theta is {:.3f}\".format(theta_hat))"
      ],
      "execution_count": 5,
      "outputs": [
        {
          "output_type": "stream",
          "text": [
            "Empirical estimate for theta is 99.998\n"
          ],
          "name": "stdout"
        }
      ]
    },
    {
      "metadata": {
        "id": "0MKFkZ4ihdhx",
        "colab_type": "text"
      },
      "cell_type": "markdown",
      "source": [
        "> **3.5.** Use non-parametric bootstrap to generate a sampling distribution of 10000 estimates for $Z$ by substituting $\\hat{\\theta}$ for $\\theta$.  Plot a histogram of your sampling distribution.  Make sure to title and label the plot.  Use percentiles to construct the 10% and 68% bootstrap confidence intervals.  Plot them in your graph. **Hint:  Should the confidence intervals be symmetric around the estimate $\\hat{\\theta}$**?"
      ]
    },
    {
      "metadata": {
        "id": "SUMMJhcKhfo4",
        "colab_type": "code",
        "colab": {}
      },
      "cell_type": "code",
      "source": [
        "n_bootstraps = 10000\n",
        "Z_bootstrapped = np.empty(n_bootstraps)\n",
        "for i in range(n_bootstraps):\n",
        "    resampled = np.random.choice(uniform_samples, replace=True, size=n_samples)\n",
        "    theta_hat_resampled = np.max(resampled)\n",
        "    Z_bootstrapped[i] = n_samples * (theta_hat - theta_hat_resampled)"
      ],
      "execution_count": 0,
      "outputs": []
    },
    {
      "metadata": {
        "id": "Geli1-pwhjkS",
        "colab_type": "code",
        "colab": {
          "base_uri": "https://localhost:8080/",
          "height": 315
        },
        "outputId": "3853886f-ef2a-4b10-ae42-e5bb894c69bd"
      },
      "cell_type": "code",
      "source": [
        "sns.distplot(Z_bootstrapped, label='Bootstrapped distribution')\n",
        "plt.axvline(np.percentile(Z_bootstrapped, q=45), c='green', label='10% Confidence interval')\n",
        "plt.axvline(np.percentile(Z_bootstrapped, q=55), c='green')\n",
        "plt.axvline(np.percentile(Z_bootstrapped, q=16) + 3, c='red', label='68% Confidence interval')\n",
        "plt.axvline(np.percentile(Z_bootstrapped, q=84) + 3, c='red')\n",
        "plt.title(r\"Bootstrapped distribution of $Z$\")\n",
        "plt.xlabel(r\"$Z$\")\n",
        "plt.ylabel(\"Density\")\n",
        "plt.legend()"
      ],
      "execution_count": 7,
      "outputs": [
        {
          "output_type": "execute_result",
          "data": {
            "text/plain": [
              "<matplotlib.legend.Legend at 0x7fd18b07e198>"
            ]
          },
          "metadata": {
            "tags": []
          },
          "execution_count": 7
        },
        {
          "output_type": "display_data",
          "data": {
            "image/png": "[encoded data removed]",
            "text/plain": [
              "<matplotlib.figure.Figure at 0x7fd18b16a588>"
            ]
          },
          "metadata": {
            "tags": []
          }
        }
      ]
    },
    {
      "metadata": {
        "id": "XFulac6chrYA",
        "colab_type": "text"
      },
      "cell_type": "markdown",
      "source": [
        "We see that the bootstrap 10% confidence interval is localized at zero. The 68% confidence interval, on the other hand, stretches between 0 and the next biggest number (roughly 100)."
      ]
    },
    {
      "metadata": {
        "id": "QF5PbuZehshZ",
        "colab_type": "text"
      },
      "cell_type": "markdown",
      "source": [
        "Actually, the bootstrapped distribution is quite interesting to look at. We see that the distribution is discrete. Thinking about the bootstrap for a moment actually reveals why: what's the probability that a sampled point $x$ is not in the resampled set (in the limit of $n \\rightarrow \\infty$, where $n$ is the sample size)? It's the probability that $x$ is not taken in any of the $n$ choices, i.e. $(1 - \\frac{1}{n})^n \\approx e^{-1}$. Thus, in most cases the bootstrapped estimate of $Z$ is 0. \n",
        "\n",
        "For the next bump in the graph, we need the largest and second largest element not be included in the bootstrapped dataset. "
      ]
    },
    {
      "metadata": {
        "id": "hAtSVyvGh2Uw",
        "colab_type": "text"
      },
      "cell_type": "markdown",
      "source": [
        "> **3.6.** Make an argument that we can construct a bootstrap confidence interval that always mismatches the limiting distribution."
      ]
    },
    {
      "metadata": {
        "id": "0zkX09N5h4O5",
        "colab_type": "text"
      },
      "cell_type": "markdown",
      "source": [
        "The argument above actually suffices: once we draw enough random samples, we can be sure that in $1 - e^{-1} \\approx 63$% percent of cases, the largest element is included. Thus, we expect, that confidence intervals up to roughly 46% are localized at a point and thus can't correspond to the corresponding intervals of the limiting distribution. This is because the limiting distribution is continuous and nonzero on $\\mathbb R_+$. Thus, the $\\alpha$ confidence interval is always bigger than the $\\beta$ confidence interval if $\\alpha > \\beta$."
      ]
    },
    {
      "metadata": {
        "id": "4MKFG9fiiOLx",
        "colab_type": "text"
      },
      "cell_type": "markdown",
      "source": [
        "> **3.7.** Let's switch to being Bayesian.  In 3.1 we came up with an expression for the likelihood $f_Y(y\\ |\\ n, \\theta)$.  Use the [Pareto distribution](https://en.wikipedia.org/wiki/Pareto_distribution) to construct a prior for $\\theta$.  What are some reasonable values to use for the scale and shape?"
      ]
    },
    {
      "metadata": {
        "id": "QoJvoRG1iWPZ",
        "colab_type": "text"
      },
      "cell_type": "markdown",
      "source": [
        "We make a rather uninformative prior. We come to the interpretation of \"uninformative\" from 3.1. In the plot below, it is best to ignore the density and focus on the CDF. The CDF says that around 60% of $\\theta$ prior probability should be below 10 and 70% below 1000. It has a rather fat tail. We use a small scale parameter reflecting that we only know that the uniform distribution should give us samples greater than zero.\n",
        "\n",
        "Also, the next problem gives us a neat interpretation of the prior parameters in terms of observed values: the `prior_shape` parameter can be intrepreted as the maximum value among `prior_scale` observed values drawn from a uniform distribution $Unif(0, \\theta)$ with unknown $\\theta$."
      ]
    },
    {
      "metadata": {
        "id": "A42rIrC4ichY",
        "colab_type": "code",
        "colab": {
          "base_uri": "https://localhost:8080/",
          "height": 331
        },
        "outputId": "d1d9b38d-4cf1-4402-f3c2-2dbb2b0bf8a7"
      },
      "cell_type": "code",
      "source": [
        "prior_scale = 0.001\n",
        "prior_shape = 0.1\n",
        "\n",
        "x = np.arange(0, 1000, 0.1)\n",
        "plt.suptitle(\"Prior distribution for shape=0.1, scale=0.001\")\n",
        "plt.subplot(121)\n",
        "plt.semilogx(x, scipy.stats.pareto.pdf(x, b=prior_shape, scale=prior_scale))\n",
        "plt.xlabel(r\"$\\theta$\")\n",
        "plt.ylabel(\"Density\")\n",
        "plt.subplot(122)\n",
        "plt.semilogx(x, scipy.stats.pareto.cdf(x, b=prior_shape, scale=prior_scale))\n",
        "plt.xlabel(r\"$\\theta$\")\n",
        "plt.ylabel(\"CDF\")\n"
      ],
      "execution_count": 124,
      "outputs": [
        {
          "output_type": "execute_result",
          "data": {
            "text/plain": [
              "Text(0,0.5,'CDF')"
            ]
          },
          "metadata": {
            "tags": []
          },
          "execution_count": 124
        },
        {
          "output_type": "display_data",
          "data": {
            "image/png": "[encoded data removed]",
            "text/plain": [
              "<matplotlib.figure.Figure at 0x7f6b2d500240>"
            ]
          },
          "metadata": {
            "tags": []
          }
        }
      ]
    },
    {
      "metadata": {
        "id": "mFaGnU11j6AR",
        "colab_type": "text"
      },
      "cell_type": "markdown",
      "source": [
        "> **3.8.** Write down an expression for the posterior distribution $f_Y(\\theta\\ |\\ n, y)$ "
      ]
    },
    {
      "metadata": {
        "id": "dIYXOo9H7jRU",
        "colab_type": "text"
      },
      "cell_type": "markdown",
      "source": [
        "The prior is\n",
        "\n",
        "$$\n",
        "prior = \n",
        "\\begin{align}\n",
        "\\begin{cases}\n",
        "\\frac{b \\times scale^b}{\\theta^{b+1}} & \\text{if }  \\theta \\geq scale\\\\\n",
        "0 & \\text{else} \n",
        "\\end{cases}\n",
        "\\end{align}\n",
        "$$\n",
        "\n",
        "The likelihood is\n",
        "\n",
        "\n",
        "$$\n",
        "l = \n",
        "\\begin{align}\n",
        "\\begin{cases}\n",
        "\\frac{n \\times \\hat\\theta^{n-1}}{\\theta^{n}} & \\text{if }  \\theta \\geq \\hat \\theta\\\\\n",
        "0 & \\text{else} \n",
        "\\end{cases}\n",
        "\\end{align}\n",
        "$$\n",
        "\n",
        "The product is thus proprtional to to\n",
        "\n",
        "$$\n",
        "posterior \\propto\n",
        "\\begin{align}\n",
        "\\begin{cases}\n",
        "\\frac{1}{\\theta^{b+1+n}} & \\text{if }  \\theta \\geq \\hat \\theta \\text{ and } \\theta \\geq shape\\\\\n",
        "0 & \\text{else} \n",
        "\\end{cases}\n",
        "\\end{align}\n",
        "$$\n",
        "\n",
        "This is a **pareto distribution with scale parameter $b+n$ and shape parameter $\\max\\{shape, x_1, \\dots, x_n\\}$**."
      ]
    },
    {
      "metadata": {
        "id": "cOYh30Bdj7_P",
        "colab_type": "text"
      },
      "cell_type": "markdown",
      "source": [
        "> **3.9.** Draw 10000 posterior samples and plot a histogram of the posterior distribution.  Use percentiles to construct the 68% HPD.  Plot the posterior distribution and mark the HPD on your plot."
      ]
    },
    {
      "metadata": {
        "id": "q4O7qio1j9dY",
        "colab_type": "code",
        "colab": {}
      },
      "cell_type": "code",
      "source": [
        "posterior_scale = max(prior_shape, uniform_samples.max())\n",
        "posterior_shape = prior_scale + uniform_samples.shape[0]\n",
        "posterior = scipy.stats.pareto.rvs(b=posterior_shape, scale=posterior_scale, size=10000)"
      ],
      "execution_count": 0,
      "outputs": []
    },
    {
      "metadata": {
        "id": "1k-pADZFGi1D",
        "colab_type": "code",
        "colab": {
          "base_uri": "https://localhost:8080/",
          "height": 314
        },
        "outputId": "4dcd400f-f290-4ab6-d385-fcbaa69f54ce"
      },
      "cell_type": "code",
      "source": [
        "sns.distplot(posterior)\n",
        "plt.axvline(100, c='red', label=r'True $\\theta$')\n",
        "plt.legend()\n",
        "plt.xlabel(r\"$\\theta$\")\n",
        "plt.ylabel(\"Density\")\n",
        "plt.title(r\"Posterior $\\theta$ distribution and true $\\theta$\")"
      ],
      "execution_count": 136,
      "outputs": [
        {
          "output_type": "execute_result",
          "data": {
            "text/plain": [
              "Text(0.5,1,'Posterior $\\\\theta$ distribution and true $\\\\theta$')"
            ]
          },
          "metadata": {
            "tags": []
          },
          "execution_count": 136
        },
        {
          "output_type": "display_data",
          "data": {
            "image/png": "[encoded data removed]",
            "text/plain": [
              "<matplotlib.figure.Figure at 0x7f6b2cfd9358>"
            ]
          },
          "metadata": {
            "tags": []
          }
        }
      ]
    },
    {
      "metadata": {
        "id": "OPWMmSkXH-YP",
        "colab_type": "text"
      },
      "cell_type": "markdown",
      "source": [
        "Note the subtle `+1e2` in the plot above. So we see that the distribution is well localized between 99.998 and 100.006."
      ]
    },
    {
      "metadata": {
        "id": "HONWpzTXkBsI",
        "colab_type": "text"
      },
      "cell_type": "markdown",
      "source": [
        "Let's also construct the posterior density of $Z = n(\\theta - Y)$r."
      ]
    },
    {
      "metadata": {
        "id": "ioGv5ZoZkCs5",
        "colab_type": "code",
        "colab": {}
      },
      "cell_type": "code",
      "source": [
        "n_Zs = 1000\n",
        "n = 100000\n",
        "Z_bayes = np.empty(n_Zs)\n",
        "for i in range(n_Zs):\n",
        "    uniforms = np.random.uniform(high=posterior[i], size=n)\n",
        "    Z = n * (posterior[i] - uniforms.max())\n",
        "    Z_bayes[i] = Z"
      ],
      "execution_count": 0,
      "outputs": []
    },
    {
      "metadata": {
        "id": "lxgl4cZCkD0h",
        "colab_type": "code",
        "colab": {
          "base_uri": "https://localhost:8080/",
          "height": 298
        },
        "outputId": "9fc402ad-0aba-4c19-e85b-03d04c53659f"
      },
      "cell_type": "code",
      "source": [
        "sns.distplot(Z_bayes[Z_bayes < 1000], bins=50)\n",
        "plt.axvline(np.percentile(Z_bayes, 16), label=\"Bayes 68% CI\")\n",
        "plt.axvline(np.percentile(Z_bayes, 84))\n",
        "x = np.arange(0, 600, 1)\n",
        "y = scipy.stats.expon.pdf(x, scale=theta)\n",
        "plt.plot(x, y, label='Limiting distribution')\n",
        "plt.xlabel(r\"$Z$\")\n",
        "plt.ylabel(\"Density\")\n",
        "plt.legend()"
      ],
      "execution_count": 129,
      "outputs": [
        {
          "output_type": "execute_result",
          "data": {
            "text/plain": [
              "<matplotlib.legend.Legend at 0x7f6b2d16fcf8>"
            ]
          },
          "metadata": {
            "tags": []
          },
          "execution_count": 129
        },
        {
          "output_type": "display_data",
          "data": {
            "image/png": "[encoded data removed]",
            "text/plain": [
              "<matplotlib.figure.Figure at 0x7f6b2d2d8b38>"
            ]
          },
          "metadata": {
            "tags": []
          }
        }
      ]
    },
    {
      "metadata": {
        "id": "2xoWJAfHkF_o",
        "colab_type": "text"
      },
      "cell_type": "markdown",
      "source": [
        "> **3.10.** How does the 68% HPD compare with the confidence interval generated from bootstrapping?  Why doesn't the bayesian interval construction suffer the same concerns you noted in 3.6"
      ]
    },
    {
      "metadata": {
        "id": "PyPIFO1IkIPw",
        "colab_type": "text"
      },
      "cell_type": "markdown",
      "source": [
        "Let's compare the Bayesian confidence interval to the bootstrapped one. The first thing to note is that it the Bayesian one continuous. This is certainly a desirable feature. That this happens is pretty clear: we get different samples for each draw (`i` in the code chunk above), so the danger that the very same points are used to estimate $Z$ is not given.\n",
        "\n",
        "Also note that the distribution of $Z$ follows quite closely the limiting distribution. This is, because we have enough data to actually get tight estimates on the parameter $\\theta$. Thus the distribution of $Z$ should be close to the limiting one."
      ]
    },
    {
      "metadata": {
        "id": "RTYGsjsN-ybZ",
        "colab_type": "text"
      },
      "cell_type": "markdown",
      "source": [
        "<div class=\"answer-separator\">\n",
        "------------------------\n",
        "</div>"
      ]
    }
  ]
}