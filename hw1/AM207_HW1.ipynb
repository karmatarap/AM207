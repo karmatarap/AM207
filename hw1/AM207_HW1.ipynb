{
 "cells": [
  {
   "cell_type": "markdown",
   "metadata": {},
   "source": [
    "# AM207 Homework 1\n",
    "\n",
    "##### Data: wine_quality_missing.csv\n",
    "\n",
    "**Harvard University**<br>\n",
    "**Fall 2018**<br>\n",
    "**Instructors: Rahul Dave**<br>\n",
    "**Due Date: ** Saturday, September 15th, 2018 at 11:59pm<br>\n",
    "**Collaborators: ** Karma Tarap, Alexander Noll\n",
    "\n",
    "\n",
    "\n",
    "**Instructions:**\n",
    "\n",
    "- Upload your final answers as well as your iPython notebook containing all work to Canvas.\n",
    "\n",
    "- Structure your notebook and your work to maximize readability.\n"
   ]
  },
  {
   "cell_type": "code",
   "execution_count": 8,
   "metadata": {
    "collapsed": true
   },
   "outputs": [],
   "source": [
    "import numpy as np\n",
    "import scipy.stats\n",
    "import matplotlib\n",
    "import matplotlib.pyplot as plt\n",
    "import matplotlib.mlab as mlab\n",
    "from matplotlib import cm\n",
    "import pandas as pd\n",
    "%matplotlib inline"
   ]
  },
  {
   "cell_type": "markdown",
   "metadata": {},
   "source": [
    "## Question 1: Don't Be Sensitive, We're Looking For False Positivity\n",
    "\n",
    "**Coding not required**\n",
    "\n",
    "As the U.S. aims to increase early identification and treatment of people with HIV, a greater focus has been placed on determining the accuracy of HIV tests in real-world settings in order to better identify individuals during the early (acute) stages of infection when transmission risk is especially high.  In order to quantify this, researchers from the University of California, San Francisco conducted a review of over 21,234 HIV tests given between the years 2003 and 2008 in some of the city's highest prevalence populations.  Two of the tests included in the study -- the OraQuick Advance Blood Rapid Antibody Test (a 3rd generation fingerstick blood test we'll henceforth call the **BRT**) and the OraQuick Advance Saliva Rapid Antibody Test (a 3rd generation saliva test we'll henceforth call the **SRT**) -- can be considered Rapidly Administered tests.  According to Wikipedia, the overall prevalence of adult HIV in the United States is 0.3%\n",
    "\n",
    "You and your partner decide to undergo tests for HIV and the two of you are administered the SRT at an HIV screening clinic.  You're aware that the test you've been administered (one of the tests featured in the study) has a sensitivity (true positive rate) of 86.6% and a specificity (true negative rate) of 98.6%.\n",
    "\n",
    "1.1. In the unfortunate event that your partner tests positive what is the probability that he/she has HIV?\n",
    "\n",
    "1.2. Should you be concerned enough to ask for further testing or treatment for your partner?  Justify your answer quantitatively.\n",
    "\n",
    "1.3. The medical staff at the screening clinic decides to independently administer the BRT as it is the only other test they can administer on site.  Based on the UCSF study above, you're aware that this test has a sensitivity (true positive rate) of 91.9% and a specificity of 99.6%.  What is the probability that your partner has the HIV if both tests come up positive (Make the assumption that the independent administration means that the tests are independent of each other)?\n",
    "\n",
    "It turns out the screening clinic didn't have the second test and you and your partner were only able to be administered the SRT. However, on your way home you're reminded that your partner has spent almost all his/her life in the Bahamas where the prevalence of adult HIV is 3.3%.\n",
    "\n",
    "1.4. What is the probability that your Bahamian partner has HIV given that he/she received a positive test result on the SRT?\n",
    "\n",
    "1.5. How does the new information quantifiably affect your decision of whether you should  be concerned enough to ask for treatment or testing for your partner?\n",
    "\n",
    "*Make sure to justify your decisions using your calculations.*"
   ]
  },
  {
   "cell_type": "markdown",
   "metadata": {},
   "source": [
    "**Solution**:"
   ]
  },
  {
   "cell_type": "markdown",
   "metadata": {},
   "source": [
    "<div class=\"answer-separator\">\n",
    "------------------------\n",
    "</div>"
   ]
  },
  {
   "cell_type": "markdown",
   "metadata": {},
   "source": [
    "<h4>1.1. In the unfortunate event that your partner tests positive what is the probability that he/she has HIV?</h4>"
   ]
  },
  {
   "cell_type": "markdown",
   "metadata": {},
   "source": []
  },
  {
   "cell_type": "markdown",
   "metadata": {},
   "source": [
    "<div class=\"answer\">\n",
    "\\begin{align}\n",
    "From \\ question \\ definition:\\\\\n",
    "&TP = 0.866\\\\\n",
    "&TN = 0.986\\\\\n",
    "&FP = 1-TN = 0.014\\\\\n",
    "\\\\~\\\\\n",
    "P(HIV|positive) &= \\frac{P(positive|HIV) \\ P(HIV)}{P(positive)}\\\\\n",
    "&=  \\frac{P(positive|HIV) \\ P(HIV)}{P(positive|HIV) \\ P(HIV) + P(positive|\\neg HIV) \\ P(\\neg HIV)}\\\\\n",
    "&=  \\frac{(0.866) \\ (0.003)}{(0.866) \\ (0.003) + (0.014) \\ (0.997)}\\\\\n",
    "&= 0.157\n",
    "\\end{align}\n",
    "<b>There is 15.7% chance of having HIV.</b>\n",
    "</div>"
   ]
  },
  {
   "cell_type": "markdown",
   "metadata": {},
   "source": [
    "<div class=\"answer-separator\">\n",
    "------------------------\n",
    "</div>"
   ]
  },
  {
   "cell_type": "markdown",
   "metadata": {},
   "source": [
    "<h4>1.2. Should you be concerned enough to ask for further testing or treatment for your partner?  Justify your answer quantitatively.</h4>"
   ]
  },
  {
   "cell_type": "markdown",
   "metadata": {},
   "source": [
    "<div class=\"answer\">\n",
    "\n",
    "<br>\n",
    "I would most definitely ask for further testing. Given the potential severity of the disease, the rather treatable nature of it, especially if caught early and the lack of risk associated with the test (ie, non-invasive), I think it would be foolish to not get a second test, especially given the risk is around 16%. I would not however, request treatment be started due to potential side effects.\n",
    "<br>\n",
    "\n",
    "</div>"
   ]
  },
  {
   "cell_type": "markdown",
   "metadata": {},
   "source": [
    "<div class=\"answer-separator\">\n",
    "------------------------\n",
    "</div>"
   ]
  },
  {
   "cell_type": "markdown",
   "metadata": {},
   "source": [
    "<h4>1.3. The medical staff at the screening clinic decides to independently administer the BRT as it is the only other test they can administer on site.  Based on the UCSF study above, you're aware that this test has a sensitivity (true positive rate) of 91.9% and a specificity of 99.6%.  What is the probability that your partner has the HIV if both tests come up positive (Make the assumption that the independent administration means that the tests are independent of each other)?</h4>"
   ]
  },
  {
   "cell_type": "markdown",
   "metadata": {},
   "source": [
    "<div class=\"answer\">\n",
    "\n",
    "\\begin{align}\n",
    "P(HIV|positive) &=  \\frac{(0.919) \\ (0.003)}{(0.919) \\ (0.003) + (1-0.996) \\ (0.997)}\\\\\n",
    "&= 0.409\n",
    "\\\\~\\\\\n",
    "Let \\ Y_1 = SRT \\ positive\\\\\n",
    "Let \\ Y_2 = BRT \\ positive\n",
    "\\\\\n",
    "P(HIV|Y_1 \\cap Y_2) &= \\frac{P(Y_1 \\cap Y_2|HIV) \\ P(HIV)}{P(Y_1 \\cap Y_2)}\\\\\n",
    "&=  \\frac{P(Y_1 \\cap Y_2|HIV) \\ P(HIV)}{P(Y_1 \\cap Y_2|HIV) \\ P(HIV) + P(Y_1 \\cap Y_2|\\neg HIV) \\ P(\\neg HIV)}\\\\\n",
    "Independence \\ assumption \\\\\n",
    "&=  \\frac{P(Y_1|HIV)\\ P(Y_2|HIV) \\ P(HIV)}{P(Y_1|HIV) \\ P(Y_2|HIV)\\ P(HIV) + P(Y_1|\\neg HIV) \\ P(Y_2|\\neg HIV) \\ P(\\neg HIV)}\\\\\n",
    "&= \\frac{(0.866) \\ (0.919) \\ (0.003)}{(0.866) \\ (0.919) \\ (0.003) + (0.014) \\ (0.004) \\ (0.997)}\\\\\n",
    "&=.977\n",
    "\\end{align}\n",
    "<b>There is 97.7% chance of having HIV given both tests come up positive.</b>\n",
    "\n",
    "</div>"
   ]
  },
  {
   "cell_type": "markdown",
   "metadata": {},
   "source": [
    "<div class=\"answer-separator\">\n",
    "------------------------\n",
    "</div>"
   ]
  },
  {
   "cell_type": "markdown",
   "metadata": {},
   "source": [
    "<h4>1.4. What is the probability that your Bahamian partner has HIV given that he/she received a positive test result on the SRT?</h4>"
   ]
  },
  {
   "cell_type": "markdown",
   "metadata": {},
   "source": [
    "<div class=\"answer\">\n",
    "\n",
    "\\begin{align}\n",
    "Revised \\ P(HIV) = 0.033\\\\\n",
    "P(HIV|positive) &=  \\frac{(0.866) \\ (0.033)}{(0.866) \\ (0.033) + (0.014) \\ (0.967)}\\\\\n",
    "&= 0.679\n",
    "\\end{align}\n",
    "<b>There is 67.9% chance of having HIV.</b>\n",
    "</div>"
   ]
  },
  {
   "cell_type": "markdown",
   "metadata": {},
   "source": [
    "<div class=\"answer-separator\">\n",
    "------------------------\n",
    "</div>"
   ]
  },
  {
   "cell_type": "markdown",
   "metadata": {},
   "source": [
    "<h4>1.5. How does the new information quantifiably affect your decision of whether you should  be concerned enough to ask for treatment or testing for your partner?</h4>"
   ]
  },
  {
   "cell_type": "markdown",
   "metadata": {},
   "source": [
    "<div class=\"answer\">\n",
    "\n",
    "<br>\n",
    "It hasn't changed my decision. 67.9% chance of having HIV would make me really worried and BRT gives results in 20 minutes, so I would definitely take it, especially if it was on insurance. There was nothing in the question that suggests its particularly expensive either. I would also start treatment as soon as possible based on the BRT test.\n",
    "<br>\n",
    "\n",
    "</div>"
   ]
  },
  {
   "cell_type": "markdown",
   "metadata": {},
   "source": [
    "<div class=\"answer-separator\">\n",
    "------------------------\n",
    "</div>"
   ]
  },
  {
   "cell_type": "markdown",
   "metadata": {},
   "source": [
    "## Question 2: Visualize Yourself Missing Your Data\n",
    "\n",
    "**Some Coding required**\n",
    "\n",
    "Missing data is a very important topic in statistics and machine learning and we may touch upon it a few times throughout the course. Let us begin to explore how to handle missing data in our analysis.  We'll be working with a dataset from the UCI Machine Learning Repository that uses a variety of wine chemical predictors to classify wines grown in the same region in Italy.  Each line represents 13 (mostly chemical) predictors of the response variable wine class, including things like alcohol content, hue, and phenols.  Unfortunately some of the predictor values were lost in measurement.  You'll find the dataset in a file called `wine_quality_missing.csv`."
   ]
  },
  {
   "cell_type": "markdown",
   "metadata": {},
   "source": [
    "2.1. Read the data in the `wine_quality_missing.csv` into a pandas dataframe and store the dataframe in the variable `wine_df`.  How many observations are in the dataset?  "
   ]
  },
  {
   "cell_type": "code",
   "execution_count": 9,
   "metadata": {},
   "outputs": [
    {
     "name": "stdout",
     "output_type": "stream",
     "text": [
      "There are 178 observations in the dataset.\n"
     ]
    }
   ],
   "source": [
    "wine_df = pd.read_csv('wine_quality_missing.csv')\n",
    "print(f'There are {wine_df.shape[0]:d} observations in the dataset.')"
   ]
  },
  {
   "cell_type": "markdown",
   "metadata": {},
   "source": [
    "2.2. One way to handle missing data is to just totally ignore it by removing any rows that have any missing values.  This is called *drop imputation*.  Use drop imputation on our wine quality dataframe and store the resulting dataframe in the variable `wine_drop`.  How many observations does the drop imputed dataset have?"
   ]
  },
  {
   "cell_type": "code",
   "execution_count": 10,
   "metadata": {},
   "outputs": [
    {
     "name": "stdout",
     "output_type": "stream",
     "text": [
      "There are 43 observations in the dataset after dropping missing.\n"
     ]
    }
   ],
   "source": [
    "wine_dropped = wine_df.dropna()\n",
    "print(f'There are {wine_dropped.shape[0]:d} observations in the dataset after dropping missing.')"
   ]
  },
  {
   "cell_type": "markdown",
   "metadata": {},
   "source": [
    "2.3. Visualize using a normed histogram the values of Ash predictor in the drop imputed dataframe.  Overlay a fitted normal distribution on your plot.  Make sure to title the plot, include a legend and label axes."
   ]
  },
  {
   "cell_type": "code",
   "execution_count": 11,
   "metadata": {},
   "outputs": [
    {
     "name": "stderr",
     "output_type": "stream",
     "text": [
      "/home/karma/anaconda3/lib/python3.6/site-packages/scipy/stats/stats.py:1713: FutureWarning: Using a non-tuple sequence for multidimensional indexing is deprecated; use `arr[tuple(seq)]` instead of `arr[seq]`. In the future this will be interpreted as an array index, `arr[np.array(seq)]`, which will result either in an error or a different result.\n",
      "  return np.add.reduce(sorted[indexer] * weights, axis=axis) / sumval\n"
     ]
    },
    {
     "data": {
      "text/plain": [
       "<matplotlib.legend.Legend at 0x7fc452b6f6a0>"
      ]
     },
     "execution_count": 11,
     "metadata": {},
     "output_type": "execute_result"
    },
    {
     "data": {
      "image/png": "[encoded data removed]",
      "text/plain": [
       "<Figure size 432x288 with 1 Axes>"
      ]
     },
     "metadata": {
      "needs_background": "light"
     },
     "output_type": "display_data"
    }
   ],
   "source": [
    "import seaborn as sns\n",
    "from scipy.stats import norm\n",
    "\n",
    "plt.figure(\"Test Plots\")\n",
    "sns.distplot(wine_dropped.Ash, kde=False, fit=norm, label=\"Ash\")\n",
    "plt.title(\"Distribution of drop-imputed Ash fitted with a normal distribution\")\n",
    "plt.ylabel('Frequency')\n",
    "plt.legend([\"Normal distr.\",\"Drop-imputed Ash\"])"
   ]
  },
  {
   "cell_type": "markdown",
   "metadata": {},
   "source": [
    "2.4. What are the mean and standard deviation of the values of the Ash feature in your drop imputed dataset?"
   ]
  },
  {
   "cell_type": "code",
   "execution_count": 12,
   "metadata": {},
   "outputs": [
    {
     "name": "stdout",
     "output_type": "stream",
     "text": [
      "Mean of Ash is: 2.369767. SD of Ash is: 0.303232.\n"
     ]
    }
   ],
   "source": [
    "print(f'Mean of Ash is: {wine_dropped.Ash.mean():f}. SD of Ash is: {wine_dropped.Ash.std():f}.')"
   ]
  },
  {
   "cell_type": "markdown",
   "metadata": {},
   "source": [
    "2.5. Another way to handle missing data is to replace any missing value with the mean of the non-missing values in that *column*.  This is called *mean imputation*.  How many rows does our mean imputed dataset have?"
   ]
  },
  {
   "cell_type": "code",
   "execution_count": 13,
   "metadata": {
    "collapsed": true
   },
   "outputs": [],
   "source": [
    "wine_imputed = wine_df.fillna(wine_df.mean())"
   ]
  },
  {
   "cell_type": "markdown",
   "metadata": {},
   "source": [
    "2.6. Visualize using a normed histogram the values of Ash predictor in the mean imputed dataframe.  Overlay a fitted normal distribution on your plot.  Make sure to title the plot, include a legend and label axes."
   ]
  },
  {
   "cell_type": "code",
   "execution_count": 14,
   "metadata": {},
   "outputs": [
    {
     "name": "stderr",
     "output_type": "stream",
     "text": [
      "/home/karma/anaconda3/lib/python3.6/site-packages/scipy/stats/stats.py:1713: FutureWarning: Using a non-tuple sequence for multidimensional indexing is deprecated; use `arr[tuple(seq)]` instead of `arr[seq]`. In the future this will be interpreted as an array index, `arr[np.array(seq)]`, which will result either in an error or a different result.\n",
      "  return np.add.reduce(sorted[indexer] * weights, axis=axis) / sumval\n"
     ]
    },
    {
     "data": {
      "text/plain": [
       "<matplotlib.legend.Legend at 0x7fc452a38dd8>"
      ]
     },
     "execution_count": 14,
     "metadata": {},
     "output_type": "execute_result"
    },
    {
     "data": {
      "image/png": "[encoded data removed]",
      "text/plain": [
       "<Figure size 432x288 with 1 Axes>"
      ]
     },
     "metadata": {
      "needs_background": "light"
     },
     "output_type": "display_data"
    }
   ],
   "source": [
    "plt.figure(\"Test Plots\")\n",
    "sns.distplot(wine_imputed.Ash, kde=False, fit=norm, label=\"Ash\")\n",
    "plt.title(\"Distribution of mean-imputed Ash fitted with a normal distribution\")\n",
    "plt.ylabel('Frequency')\n",
    "plt.legend([\"Normal distr.\",\"Mean-imputed Ash\"])"
   ]
  },
  {
   "cell_type": "markdown",
   "metadata": {},
   "source": [
    "2.7. What are the mean and standard deviation of the Ash predictor values in your mean imputed dataset?  How do they compare to the mean and standard deviation of the drop imputed dataset?"
   ]
  },
  {
   "cell_type": "code",
   "execution_count": 15,
   "metadata": {},
   "outputs": [
    {
     "data": {
      "text/html": [
       "<div>\n",
       "<style scoped>\n",
       "    .dataframe tbody tr th:only-of-type {\n",
       "        vertical-align: middle;\n",
       "    }\n",
       "\n",
       "    .dataframe tbody tr th {\n",
       "        vertical-align: top;\n",
       "    }\n",
       "\n",
       "    .dataframe thead th {\n",
       "        text-align: right;\n",
       "    }\n",
       "</style>\n",
       "<table border=\"1\" class=\"dataframe\">\n",
       "  <thead>\n",
       "    <tr style=\"text-align: right;\">\n",
       "      <th></th>\n",
       "      <th>Drop Imputed</th>\n",
       "      <th>Mean Imputed</th>\n",
       "    </tr>\n",
       "  </thead>\n",
       "  <tbody>\n",
       "    <tr>\n",
       "      <th>mean</th>\n",
       "      <td>2.369767</td>\n",
       "      <td>2.366218</td>\n",
       "    </tr>\n",
       "    <tr>\n",
       "      <th>std</th>\n",
       "      <td>0.303232</td>\n",
       "      <td>0.265022</td>\n",
       "    </tr>\n",
       "  </tbody>\n",
       "</table>\n",
       "</div>"
      ],
      "text/plain": [
       "      Drop Imputed  Mean Imputed\n",
       "mean      2.369767      2.366218\n",
       "std       0.303232      0.265022"
      ]
     },
     "execution_count": 15,
     "metadata": {},
     "output_type": "execute_result"
    }
   ],
   "source": [
    "#Get summary statistics of interest from each dataset\n",
    "drop_imputed_Ash = wine_dropped.Ash.describe().filter(items=['mean','std'])\n",
    "mean_imputed_Ash = wine_imputed.Ash.describe().filter(items=['mean','std'])\n",
    "\n",
    "#Combine for easy display\n",
    "pd.concat([drop_imputed_Ash.rename('Drop Imputed'),mean_imputed_Ash.rename('Mean Imputed')], axis=1)"
   ]
  },
  {
   "cell_type": "markdown",
   "metadata": {},
   "source": [
    "<b>We can see that although the means of of both datasets are similar, the standard deviation is considerably wider for the drop imputed Ash. Mean imputation will shrink the variation as well as not preserve relationships between variables.</b>"
   ]
  },
  {
   "cell_type": "markdown",
   "metadata": {},
   "source": [
    "## Part 3: Walk Softly and Carry a Broken Stick  \n",
    "\n",
    "**Some Coding required**\n",
    "\n",
    "3.1  A well-known probability problem, the **Broken Stick Problem** can be formulated as follows. *A stick is broken up at two points, chosen at random along its\n",
    "length. Show that the probability that the pieces obtained form a triangle is 1/4.*  Write a function `simulate_broken_stick` that runs takes an integer parameter `n_sims`, runs that many simulations of the broken stick problem and returns a floating point number representing an estimate of the probability that the pieces of a stick randomly broken in two places form a triangle.  \n",
    "\n",
    "**Hints**:\n",
    "\n",
    "1. Use either np.random.rand or scipy.stats.uniform.rvs to simulate stick-breaking\n",
    "2. Think about the triangle inequality\n",
    "\n",
    "3.2 Run your function `simulate_broken_stick` with `n_sims` set to be equal to 50 and 1000.  What are your two estimates of the solution to the broken stick problem?\n",
    "\n",
    "3.3 (Optional) Provide an analytic proof of the **Broken Stick Problem**.\n",
    "\n",
    "**Hints**:\n",
    "\n",
    "1. There's a very nice geometric proof taking advantage of [Viviani's Theorem][1].  Argue that every point in the equilateral triangle with height equal to the length of the stick maps to a particular breaking of the stick.  Divide the equilateral triangle into subtriangles by joining the midpoints.  What does it mean for a point to be outside the central equilateral subtriangle?\n",
    "2. There's a more straightforward proof treating the breaking of the stick as joint uniform random variables.  What conditions does the triangle inequality impose on the joint random variable? How do you calculate the probability that the joint uniform meets those conditions? \n",
    "\n",
    "[1]: https://en.wikipedia.org/wiki/Viviani%27s_theorem"
   ]
  },
  {
   "cell_type": "markdown",
   "metadata": {},
   "source": [
    "**Solution**:"
   ]
  },
  {
   "cell_type": "markdown",
   "metadata": {},
   "source": [
    "<h4> 3.1  A well-known probability problem, the **Broken Stick Problem** can be formulated as follows. *A stick is broken up at two points, chosen at random along its\n",
    "length. Show that the probability that the pieces obtained form a triangle is 1/4.*  Write a function `simulate_broken_stick` that runs takes an integer parameter `n_sims`, runs that many simulations of the broken stick problem and returns a floating point number representing an estimate of the probability that the pieces of a stick randomly broken in two places form a triangle.</h4>"
   ]
  },
  {
   "cell_type": "markdown",
   "metadata": {},
   "source": [
    "Let $l_i \\geq 0, i=1,2,3, \\sum_i l_i = 1$. Then a necessary and sufficient condition for there to be a triangle with side lengths $l_{i}$ is that $l_i + l_j \\geq l_k \\forall i,j,k$."
   ]
  },
  {
   "cell_type": "code",
   "execution_count": 21,
   "metadata": {
    "collapsed": true
   },
   "outputs": [],
   "source": [
    "def simulate_broken_stick(n_sims=500):\n",
    "    \"\"\"\n",
    "    Vectorized simulation of broken stick problem.\n",
    "    \n",
    "    @param n_sims integer number of simulations\n",
    "    \n",
    "    @returns float\n",
    "    \"\"\"\n",
    "    # Simulate two break points and put smaller point in zeroth column\n",
    "    break_points = np.random.rand(n_sims, 2)\n",
    "    break_points.sort(axis=1)\n",
    "    \n",
    "    # Calculate three corresponding lengths\n",
    "    length = np.zeros((n_sims, 3))\n",
    "    length[:, 0] = break_points[:, 0]\n",
    "    length[:, 1] = break_points[:, 1] - break_points[:, 0]\n",
    "    length[:, 2] = 1 - break_points[:, 1]\n",
    "    length.sort(axis=1)\n",
    "    \n",
    "    # Triangle inequality\n",
    "    satisfies_ti = length[:, 0] + length[:, 1] > length[:, 2]\n",
    "    \n",
    "    return satisfies_ti.mean()"
   ]
  },
  {
   "cell_type": "markdown",
   "metadata": {},
   "source": [
    "<h4>3.2 Run your function `simulate_broken_stick` with `n_sims` set to be equal to 50 and 1000.  What are your two estimates of the solution to the broken stick problem?</h4>"
   ]
  },
  {
   "cell_type": "code",
   "execution_count": 22,
   "metadata": {
    "collapsed": true
   },
   "outputs": [],
   "source": [
    "np.random.seed(seed=1234)\n",
    "estimate_50 = simulate_broken_stick(n_sims=50)  # calculate estimate for 50 simulations\n",
    "estimate_1000 = simulate_broken_stick(n_sims=1000)  # calculate estimate for 1000 simulations"
   ]
  },
  {
   "cell_type": "code",
   "execution_count": 23,
   "metadata": {},
   "outputs": [
    {
     "name": "stdout",
     "output_type": "stream",
     "text": [
      "After 50 simulations, probability that the pieces obtained form a triangle is: 0.360.\n",
      "After 1000 simulations, probability that the pieces obtained form a triangle is: 0.232.\n"
     ]
    }
   ],
   "source": [
    "print(f'After 50 simulations, probability that the pieces obtained form a triangle is: {estimate_50:.3f}.')\n",
    "print(f'After 1000 simulations, probability that the pieces obtained form a triangle is: {estimate_1000:.3f}.')"
   ]
  },
  {
   "cell_type": "markdown",
   "metadata": {},
   "source": [
    "<h4>3.3 (Optional) Provide an analytic proof of the **Broken Stick Problem**.</h4>"
   ]
  },
  {
   "cell_type": "markdown",
   "metadata": {},
   "source": [
    "Note that the \"space of broken sticks\" can be described as the triangle\n",
    "\n",
    "$$\\Delta = \\{(x, y, z) \\in \\mathbb R ^ 3 \\vert x, y, z \\geq 0, x + y + z = 1\\} $$\n",
    "\n",
    "This triangle has an obvious $S_3$ permutation symmetry coming from permuting the coordinates. We can define a fundamental domain of $\\Delta$ as\n",
    "\n",
    "$$\\Delta^f = \\{(x, y, x) \\in \\mathbb R ^ 3 \\vert x \\leq y \\leq z, x + y + z = 1 \\} \\:.$$\n",
    "\n",
    "The projection $\\pi: \\mathbb R ^ 3 \\rightarrow \\mathbb R ^ 2, (x, y, z) \\mapsto (x, y)$ induces a bijection of $\\Delta$, and thus $\\Delta^f$ and $\\pi(\\Delta^f)$. "
   ]
  },
  {
   "cell_type": "markdown",
   "metadata": {},
   "source": [
    "The fundamental domain $\\Delta ^ f \\subset \\mathbb R^2$ (induced via $\\pi$) can be described as\n",
    "\n",
    "$$\\Delta ^ f = \\{(x, y) \\in \\mathbb R ^ 2 \\vert x, y \\geq 0, x \\leq y \\leq 1 - x - y \\} \\:.$$"
   ]
  },
  {
   "cell_type": "markdown",
   "metadata": {},
   "source": [
    "Thus,\n",
    "\n",
    "$$ \\Delta ^ f = \\{(x, y) \\in \\mathbb R ^2 \\vert x \\geq 0, y \\geq 0, y \\geq x, y \\leq \\frac{1-x}{2} \\}$$"
   ]
  },
  {
   "cell_type": "markdown",
   "metadata": {},
   "source": [
    "The triangle inequality can be described as $x + y \\geq z \\Leftrightarrow x + y \\geq 1 - x - y \\Leftrightarrow 2x + 2y \\geq 1$."
   ]
  },
  {
   "cell_type": "markdown",
   "metadata": {},
   "source": [
    "All of these relations are visualized in the subsequent figure:\n",
    "\n",
    "+ The blue triangle denotes $\\Delta \\subset \\mathbb R ^ 2$\n",
    "+ The red line dentoes the curve $x = y$, thus we know that $\\Delta ^ f$ lies in the intersection of the blue triangle and points \"above\" the red line ($y \\geq x$)\n",
    "+ Next, the orange line corresponds to the equation $y = \\frac{1 - x}{2}$ and we know that $y \\leq \\frac{1 - x}{2}$\n",
    "\n",
    "Thus, $\\Delta^f$ is spanned by the red line the orange line and part of the blue line. More specifically, by the points $(0, 0), (0, 0.5), (1/3, 1/3)$. It is now straightforward to calculate the area of this triangle as $1/12$, either by the explicit formula \n",
    "\n",
    "$$A = \\sqrt{p (p-a)(p-b)(p-c)}$$ \n",
    "\n",
    "with $p = \\frac{a+b+c}{2}$. We can also derive this area from the fact that the blue triangle has an area of $1/2$ and we have an injective action of the symmetric group $S_3$ induced by permuting the coordinates in $\\mathbb R^3$ before applying the projection $\\pi$."
   ]
  },
  {
   "cell_type": "markdown",
   "metadata": {},
   "source": [
    "To get the possible triangles, we have to caluclate the area of the triangle spanned by the orange line, the green line and the red line. It is spanned by the points $(0, 0.5), (1/3, 1/3), (0.25, 0.25)$. This area is $0.02083333$."
   ]
  },
  {
   "cell_type": "code",
   "execution_count": 24,
   "metadata": {},
   "outputs": [
    {
     "name": "stdout",
     "output_type": "stream",
     "text": [
      "Area of triangles: 0.020833333333333343\n",
      "Probability of triangle: 0.2500000000000001\n"
     ]
    }
   ],
   "source": [
    "l1 = np.sqrt(1 / 3 ** 2 + (0.5 - 1 / 3) ** 2)\n",
    "l2 = np.sqrt((1 / 3 - 0.25) ** 2 + (0.25 - 1/3) ** 2)\n",
    "l3 = np.sqrt(0.25 ** 2 + 0.25 ** 2)\n",
    "p = (l1 + l2 + l3) / 2\n",
    "A = np.sqrt(p * (p - l1) * (p - l2) * (p - l3))\n",
    "print(\"Area of triangles: {}\".format(A))\n",
    "print(\"Probability of triangle: {}\".format(A * 12))"
   ]
  },
  {
   "cell_type": "code",
   "execution_count": 25,
   "metadata": {},
   "outputs": [
    {
     "data": {
      "text/plain": [
       "[<matplotlib.lines.Line2D at 0x7fc4528f38d0>]"
      ]
     },
     "execution_count": 25,
     "metadata": {},
     "output_type": "execute_result"
    },
    {
     "data": {
      "image/png": "[encoded data removed]",
      "text/plain": [
       "<Figure size 432x288 with 1 Axes>"
      ]
     },
     "metadata": {
      "needs_background": "light"
     },
     "output_type": "display_data"
    }
   ],
   "source": [
    "fig = plt.figure()\n",
    "ax = fig.add_subplot(111)\n",
    "\n",
    "plt.plot([0, 1, 0, 0], [0, 0, 1, 0])\n",
    "plt.plot([0, 1], [0, 1], 'r')\n",
    "plt.plot([0, 1], [0.5, 0])\n",
    "plt.plot([0, 0.5], [0.5, 0])"
   ]
  },
  {
   "cell_type": "code",
   "execution_count": null,
   "metadata": {
    "collapsed": true
   },
   "outputs": [],
   "source": []
  }
 ],
 "metadata": {
  "anaconda-cloud": {},
  "kernel_info": {
   "name": "python3"
  },
  "kernelspec": {
   "display_name": "Python 3",
   "language": "python",
   "name": "python3"
  },
  "language_info": {
   "codemirror_mode": {
    "name": "ipython",
    "version": 3
   },
   "file_extension": ".py",
   "mimetype": "text/x-python",
   "name": "python",
   "nbconvert_exporter": "python",
   "pygments_lexer": "ipython3",
   "version": "3.6.1"
  },
  "nteract": {
   "version": "0.10.0"
  }
 },
 "nbformat": 4,
 "nbformat_minor": 2
}
